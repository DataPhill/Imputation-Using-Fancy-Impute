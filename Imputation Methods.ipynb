{
 "cells": [
  {
   "cell_type": "markdown",
   "id": "fbc65b50",
   "metadata": {},
   "source": [
    "### Loading Libraries"
   ]
  },
  {
   "cell_type": "code",
   "execution_count": 1,
   "id": "b4eaaf3c",
   "metadata": {},
   "outputs": [],
   "source": [
    "import numpy as np\n",
    "import pandas as pd\n",
    "\n",
    "import matplotlib.pyplot as plt\n",
    "from matplotlib import pyplot\n",
    "%matplotlib inline\n",
    "import seaborn as sns\n",
    "sns.set()\n",
    "\n",
    "#import from Sklearn\n",
    "from sklearn import linear_model\n",
    "from sklearn import metrics\n",
    "from sklearn.model_selection import train_test_split, cross_val_score\n",
    "from sklearn.preprocessing import LabelEncoder, OrdinalEncoder\n",
    "from sklearn import preprocessing\n",
    "from sklearn.feature_selection import SelectKBest, chi2, mutual_info_classif\n",
    "from sklearn.linear_model import LogisticRegression\n",
    "from sklearn.metrics import accuracy_score, confusion_matrix, classification_report \n",
    "from sklearn.tree import DecisionTreeClassifier\n",
    "from sklearn.ensemble import RandomForestClassifier, GradientBoostingClassifier"
   ]
  },
  {
   "cell_type": "markdown",
   "id": "384cc74c",
   "metadata": {},
   "source": [
    "###  Loading Data"
   ]
  },
  {
   "cell_type": "code",
   "execution_count": 2,
   "id": "776e0b3c",
   "metadata": {
    "scrolled": false
   },
   "outputs": [],
   "source": [
    "# loading data\n",
    "het = pd.read_csv(\"/Data.csv\").head(200000)\n"
   ]
  },
  {
   "cell_type": "markdown",
   "id": "5cebd645",
   "metadata": {},
   "source": [
    "### Inspect the data"
   ]
  },
  {
   "cell_type": "code",
   "execution_count": 3,
   "id": "0d5413c4",
   "metadata": {},
   "outputs": [
    {
     "data": {
      "text/plain": [
       "(200000, 21)"
      ]
     },
     "execution_count": 3,
     "metadata": {},
     "output_type": "execute_result"
    }
   ],
   "source": [
    "het.shape"
   ]
  },
  {
   "cell_type": "markdown",
   "id": "101498cc",
   "metadata": {},
   "source": [
    "### Converting DateTime to Age"
   ]
  },
  {
   "cell_type": "code",
   "execution_count": 4,
   "id": "09d1cd1b",
   "metadata": {},
   "outputs": [],
   "source": [
    "het['Age'] = het['DATE_OF_BIRTH'].str[-2:]"
   ]
  },
  {
   "cell_type": "code",
   "execution_count": 5,
   "id": "bef3b6b3",
   "metadata": {},
   "outputs": [],
   "source": [
    "het[\"Age1\"] = pd.to_numeric(het[\"Age\"])"
   ]
  },
  {
   "cell_type": "code",
   "execution_count": 6,
   "id": "5a9b2cd6",
   "metadata": {},
   "outputs": [],
   "source": [
    "het[\"STUDENT_AGE\"]=  het['REPORT_YEAR']- (1900+het[\"Age1\"])"
   ]
  },
  {
   "cell_type": "code",
   "execution_count": 7,
   "id": "9a4278eb",
   "metadata": {
    "scrolled": false
   },
   "outputs": [
    {
     "data": {
      "text/html": [
       "<div>\n",
       "<style scoped>\n",
       "    .dataframe tbody tr th:only-of-type {\n",
       "        vertical-align: middle;\n",
       "    }\n",
       "\n",
       "    .dataframe tbody tr th {\n",
       "        vertical-align: top;\n",
       "    }\n",
       "\n",
       "    .dataframe thead th {\n",
       "        text-align: right;\n",
       "    }\n",
       "</style>\n",
       "<table border=\"1\" class=\"dataframe\">\n",
       "  <thead>\n",
       "    <tr style=\"text-align: right;\">\n",
       "      <th></th>\n",
       "      <th>LEARNER_ID</th>\n",
       "      <th>DATE_OF_BIRTH</th>\n",
       "      <th>EQUITY</th>\n",
       "      <th>DISABILITY</th>\n",
       "      <th>GENDER</th>\n",
       "      <th>HOME_LANGUAGE</th>\n",
       "      <th>NATIONALITY</th>\n",
       "      <th>RESIDENT_STATUS</th>\n",
       "      <th>LEARNER_PROVINCE</th>\n",
       "      <th>ENROL_STATUS</th>\n",
       "      <th>...</th>\n",
       "      <th>QUALIFICATION_ID</th>\n",
       "      <th>QUALIFICATION_TITLE</th>\n",
       "      <th>NQF_LEVEL</th>\n",
       "      <th>QUALIFICATION_TYPE</th>\n",
       "      <th>CREDITS_TOTAL</th>\n",
       "      <th>LOAD_SUPPLIER</th>\n",
       "      <th>REPORT_YEAR</th>\n",
       "      <th>Age</th>\n",
       "      <th>Age1</th>\n",
       "      <th>STUDENT_AGE</th>\n",
       "    </tr>\n",
       "  </thead>\n",
       "  <tbody>\n",
       "    <tr>\n",
       "      <th>199995</th>\n",
       "      <td>1132278</td>\n",
       "      <td>19/FEB/91</td>\n",
       "      <td>White</td>\n",
       "      <td>None</td>\n",
       "      <td>Female</td>\n",
       "      <td>Afrikaans</td>\n",
       "      <td>South Africa</td>\n",
       "      <td>South Africa</td>\n",
       "      <td>Eastern Cape</td>\n",
       "      <td>Achieved</td>\n",
       "      <td>...</td>\n",
       "      <td>3677</td>\n",
       "      <td>BACHELOR OF SOCIAL WORK</td>\n",
       "      <td>Level 7</td>\n",
       "      <td>National First Degree (Min 480)</td>\n",
       "      <td>0</td>\n",
       "      <td>HEMIS</td>\n",
       "      <td>2013</td>\n",
       "      <td>91</td>\n",
       "      <td>91.0</td>\n",
       "      <td>22.0</td>\n",
       "    </tr>\n",
       "    <tr>\n",
       "      <th>199996</th>\n",
       "      <td>1132292</td>\n",
       "      <td>25/JUN/90</td>\n",
       "      <td>African</td>\n",
       "      <td>None</td>\n",
       "      <td>Male</td>\n",
       "      <td>tshiVenda</td>\n",
       "      <td>South Africa</td>\n",
       "      <td>South Africa</td>\n",
       "      <td>Gauteng</td>\n",
       "      <td>Achieved</td>\n",
       "      <td>...</td>\n",
       "      <td>8158</td>\n",
       "      <td>N DIP: INDUSTRIAL ENGINEERING</td>\n",
       "      <td>Undefined</td>\n",
       "      <td>National Diploma</td>\n",
       "      <td>0</td>\n",
       "      <td>HEMIS</td>\n",
       "      <td>2014</td>\n",
       "      <td>90</td>\n",
       "      <td>90.0</td>\n",
       "      <td>24.0</td>\n",
       "    </tr>\n",
       "    <tr>\n",
       "      <th>199997</th>\n",
       "      <td>1132296</td>\n",
       "      <td>10/JUL/91</td>\n",
       "      <td>African</td>\n",
       "      <td>None</td>\n",
       "      <td>Female</td>\n",
       "      <td>isiZulu</td>\n",
       "      <td>South Africa</td>\n",
       "      <td>South Africa</td>\n",
       "      <td>Kwazulu/Natal</td>\n",
       "      <td>Enrolled</td>\n",
       "      <td>...</td>\n",
       "      <td>5792</td>\n",
       "      <td>BACCALAUREUS COMMERCII</td>\n",
       "      <td>Level 6</td>\n",
       "      <td>National First Degree (Min 360)</td>\n",
       "      <td>0</td>\n",
       "      <td>HEMIS</td>\n",
       "      <td>2010</td>\n",
       "      <td>91</td>\n",
       "      <td>91.0</td>\n",
       "      <td>19.0</td>\n",
       "    </tr>\n",
       "    <tr>\n",
       "      <th>199998</th>\n",
       "      <td>1132304</td>\n",
       "      <td>06/DEC/90</td>\n",
       "      <td>Coloured</td>\n",
       "      <td>None</td>\n",
       "      <td>Female</td>\n",
       "      <td>English</td>\n",
       "      <td>South Africa</td>\n",
       "      <td>South Africa</td>\n",
       "      <td>Kwazulu/Natal</td>\n",
       "      <td>Achieved</td>\n",
       "      <td>...</td>\n",
       "      <td>318</td>\n",
       "      <td>ND: ENGINEERING: ELECTRICAL</td>\n",
       "      <td>Undefined</td>\n",
       "      <td>National Diploma</td>\n",
       "      <td>0</td>\n",
       "      <td>HEMIS</td>\n",
       "      <td>2014</td>\n",
       "      <td>90</td>\n",
       "      <td>90.0</td>\n",
       "      <td>24.0</td>\n",
       "    </tr>\n",
       "    <tr>\n",
       "      <th>199999</th>\n",
       "      <td>1132308</td>\n",
       "      <td>27/JAN/92</td>\n",
       "      <td>African</td>\n",
       "      <td>None</td>\n",
       "      <td>Female</td>\n",
       "      <td>isiZulu</td>\n",
       "      <td>South Africa</td>\n",
       "      <td>South Africa</td>\n",
       "      <td>Kwazulu/Natal</td>\n",
       "      <td>Achieved</td>\n",
       "      <td>...</td>\n",
       "      <td>6422</td>\n",
       "      <td>NATIONAL DIPLOMA:ACCOUNTING</td>\n",
       "      <td>Undefined</td>\n",
       "      <td>National Diploma</td>\n",
       "      <td>0</td>\n",
       "      <td>HEMIS</td>\n",
       "      <td>2014</td>\n",
       "      <td>92</td>\n",
       "      <td>92.0</td>\n",
       "      <td>22.0</td>\n",
       "    </tr>\n",
       "  </tbody>\n",
       "</table>\n",
       "<p>5 rows × 24 columns</p>\n",
       "</div>"
      ],
      "text/plain": [
       "        LEARNER_ID DATE_OF_BIRTH    EQUITY DISABILITY  GENDER HOME_LANGUAGE  \\\n",
       "199995     1132278     19/FEB/91     White       None  Female     Afrikaans   \n",
       "199996     1132292     25/JUN/90   African       None    Male     tshiVenda   \n",
       "199997     1132296     10/JUL/91   African       None  Female       isiZulu   \n",
       "199998     1132304     06/DEC/90  Coloured       None  Female       English   \n",
       "199999     1132308     27/JAN/92   African       None  Female       isiZulu   \n",
       "\n",
       "         NATIONALITY RESIDENT_STATUS LEARNER_PROVINCE ENROL_STATUS  ...  \\\n",
       "199995  South Africa    South Africa     Eastern Cape     Achieved  ...   \n",
       "199996  South Africa    South Africa          Gauteng     Achieved  ...   \n",
       "199997  South Africa    South Africa    Kwazulu/Natal     Enrolled  ...   \n",
       "199998  South Africa    South Africa    Kwazulu/Natal     Achieved  ...   \n",
       "199999  South Africa    South Africa    Kwazulu/Natal     Achieved  ...   \n",
       "\n",
       "       QUALIFICATION_ID            QUALIFICATION_TITLE  NQF_LEVEL  \\\n",
       "199995             3677        BACHELOR OF SOCIAL WORK    Level 7   \n",
       "199996             8158  N DIP: INDUSTRIAL ENGINEERING  Undefined   \n",
       "199997             5792         BACCALAUREUS COMMERCII    Level 6   \n",
       "199998              318    ND: ENGINEERING: ELECTRICAL  Undefined   \n",
       "199999             6422    NATIONAL DIPLOMA:ACCOUNTING  Undefined   \n",
       "\n",
       "                     QUALIFICATION_TYPE  CREDITS_TOTAL LOAD_SUPPLIER  \\\n",
       "199995  National First Degree (Min 480)              0         HEMIS   \n",
       "199996                 National Diploma              0         HEMIS   \n",
       "199997  National First Degree (Min 360)              0         HEMIS   \n",
       "199998                 National Diploma              0         HEMIS   \n",
       "199999                 National Diploma              0         HEMIS   \n",
       "\n",
       "       REPORT_YEAR Age  Age1 STUDENT_AGE  \n",
       "199995        2013  91  91.0        22.0  \n",
       "199996        2014  90  90.0        24.0  \n",
       "199997        2010  91  91.0        19.0  \n",
       "199998        2014  90  90.0        24.0  \n",
       "199999        2014  92  92.0        22.0  \n",
       "\n",
       "[5 rows x 24 columns]"
      ]
     },
     "execution_count": 7,
     "metadata": {},
     "output_type": "execute_result"
    }
   ],
   "source": [
    "het.tail(5)"
   ]
  },
  {
   "cell_type": "markdown",
   "id": "a6e8779e",
   "metadata": {},
   "source": [
    "### Checking Duplicates and Handling them"
   ]
  },
  {
   "cell_type": "code",
   "execution_count": 8,
   "id": "0d4c516b",
   "metadata": {},
   "outputs": [
    {
     "name": "stdout",
     "output_type": "stream",
     "text": [
      "CHeck duplicates row below\n"
     ]
    },
    {
     "data": {
      "text/html": [
       "<div>\n",
       "<style scoped>\n",
       "    .dataframe tbody tr th:only-of-type {\n",
       "        vertical-align: middle;\n",
       "    }\n",
       "\n",
       "    .dataframe tbody tr th {\n",
       "        vertical-align: top;\n",
       "    }\n",
       "\n",
       "    .dataframe thead th {\n",
       "        text-align: right;\n",
       "    }\n",
       "</style>\n",
       "<table border=\"1\" class=\"dataframe\">\n",
       "  <thead>\n",
       "    <tr style=\"text-align: right;\">\n",
       "      <th></th>\n",
       "      <th>LEARNER_ID</th>\n",
       "      <th>DATE_OF_BIRTH</th>\n",
       "      <th>EQUITY</th>\n",
       "      <th>DISABILITY</th>\n",
       "      <th>GENDER</th>\n",
       "      <th>HOME_LANGUAGE</th>\n",
       "      <th>NATIONALITY</th>\n",
       "      <th>RESIDENT_STATUS</th>\n",
       "      <th>LEARNER_PROVINCE</th>\n",
       "      <th>ENROL_STATUS</th>\n",
       "      <th>...</th>\n",
       "      <th>QUALIFICATION_ID</th>\n",
       "      <th>QUALIFICATION_TITLE</th>\n",
       "      <th>NQF_LEVEL</th>\n",
       "      <th>QUALIFICATION_TYPE</th>\n",
       "      <th>CREDITS_TOTAL</th>\n",
       "      <th>LOAD_SUPPLIER</th>\n",
       "      <th>REPORT_YEAR</th>\n",
       "      <th>Age</th>\n",
       "      <th>Age1</th>\n",
       "      <th>STUDENT_AGE</th>\n",
       "    </tr>\n",
       "  </thead>\n",
       "  <tbody>\n",
       "  </tbody>\n",
       "</table>\n",
       "<p>0 rows × 24 columns</p>\n",
       "</div>"
      ],
      "text/plain": [
       "Empty DataFrame\n",
       "Columns: [LEARNER_ID, DATE_OF_BIRTH, EQUITY, DISABILITY, GENDER, HOME_LANGUAGE, NATIONALITY, RESIDENT_STATUS, LEARNER_PROVINCE, ENROL_STATUS, ENROL_TYPE, ENROL_DATE, ENROL_STATUS_DATE, PROVIDER_NAME, QUALIFICATION_ID, QUALIFICATION_TITLE, NQF_LEVEL, QUALIFICATION_TYPE, CREDITS_TOTAL, LOAD_SUPPLIER, REPORT_YEAR, Age, Age1, STUDENT_AGE]\n",
       "Index: []\n",
       "\n",
       "[0 rows x 24 columns]"
      ]
     },
     "execution_count": 8,
     "metadata": {},
     "output_type": "execute_result"
    }
   ],
   "source": [
    "duplicate = het[het.duplicated()]\n",
    "print('CHeck duplicates row below')\n",
    "duplicate"
   ]
  },
  {
   "cell_type": "markdown",
   "id": "e07c8f5c",
   "metadata": {},
   "source": [
    "### NQF_LEVEL Stats and the Use Case"
   ]
  },
  {
   "cell_type": "markdown",
   "id": "c9a3fb0f",
   "metadata": {},
   "source": [
    "#### Without Undefined Values from NQF Level"
   ]
  },
  {
   "cell_type": "code",
   "execution_count": 9,
   "id": "c8e75a42",
   "metadata": {},
   "outputs": [
    {
     "data": {
      "text/plain": [
       "(118523, 24)"
      ]
     },
     "execution_count": 9,
     "metadata": {},
     "output_type": "execute_result"
    }
   ],
   "source": [
    "Labelled_data=het[het['NQF_LEVEL']!='Undefined']\n",
    "Labelled_data.shape"
   ]
  },
  {
   "cell_type": "code",
   "execution_count": 10,
   "id": "e0efae5f",
   "metadata": {},
   "outputs": [
    {
     "data": {
      "text/html": [
       "<div>\n",
       "<style scoped>\n",
       "    .dataframe tbody tr th:only-of-type {\n",
       "        vertical-align: middle;\n",
       "    }\n",
       "\n",
       "    .dataframe tbody tr th {\n",
       "        vertical-align: top;\n",
       "    }\n",
       "\n",
       "    .dataframe thead th {\n",
       "        text-align: right;\n",
       "    }\n",
       "</style>\n",
       "<table border=\"1\" class=\"dataframe\">\n",
       "  <thead>\n",
       "    <tr style=\"text-align: right;\">\n",
       "      <th></th>\n",
       "      <th>LEARNER_ID</th>\n",
       "      <th>DATE_OF_BIRTH</th>\n",
       "      <th>EQUITY</th>\n",
       "      <th>DISABILITY</th>\n",
       "      <th>GENDER</th>\n",
       "      <th>HOME_LANGUAGE</th>\n",
       "      <th>NATIONALITY</th>\n",
       "      <th>RESIDENT_STATUS</th>\n",
       "      <th>LEARNER_PROVINCE</th>\n",
       "      <th>ENROL_STATUS</th>\n",
       "      <th>...</th>\n",
       "      <th>QUALIFICATION_ID</th>\n",
       "      <th>QUALIFICATION_TITLE</th>\n",
       "      <th>NQF_LEVEL</th>\n",
       "      <th>QUALIFICATION_TYPE</th>\n",
       "      <th>CREDITS_TOTAL</th>\n",
       "      <th>LOAD_SUPPLIER</th>\n",
       "      <th>REPORT_YEAR</th>\n",
       "      <th>Age</th>\n",
       "      <th>Age1</th>\n",
       "      <th>STUDENT_AGE</th>\n",
       "    </tr>\n",
       "  </thead>\n",
       "  <tbody>\n",
       "    <tr>\n",
       "      <th>0</th>\n",
       "      <td>306</td>\n",
       "      <td>11/DEC/72</td>\n",
       "      <td>African</td>\n",
       "      <td>None</td>\n",
       "      <td>Female</td>\n",
       "      <td>seSotho</td>\n",
       "      <td>South Africa</td>\n",
       "      <td>South Africa</td>\n",
       "      <td>Gauteng</td>\n",
       "      <td>Enrolled</td>\n",
       "      <td>...</td>\n",
       "      <td>332</td>\n",
       "      <td>BACCALAUREUS EDUCATION: (HONS): (FET): SPECIAL...</td>\n",
       "      <td>Level 7</td>\n",
       "      <td>Honours Degree</td>\n",
       "      <td>0</td>\n",
       "      <td>HEMIS</td>\n",
       "      <td>2010</td>\n",
       "      <td>72</td>\n",
       "      <td>72.0</td>\n",
       "      <td>38.0</td>\n",
       "    </tr>\n",
       "    <tr>\n",
       "      <th>1</th>\n",
       "      <td>310</td>\n",
       "      <td>24/OCT/67</td>\n",
       "      <td>African</td>\n",
       "      <td>None</td>\n",
       "      <td>Female</td>\n",
       "      <td>English</td>\n",
       "      <td>South Africa</td>\n",
       "      <td>South Africa</td>\n",
       "      <td>North West</td>\n",
       "      <td>Achieved</td>\n",
       "      <td>...</td>\n",
       "      <td>6394</td>\n",
       "      <td>ADVANCED CERTIFICATE IN EDUCATI / GEVORDERDE O...</td>\n",
       "      <td>Level 5</td>\n",
       "      <td>National Certificate</td>\n",
       "      <td>0</td>\n",
       "      <td>HEMIS</td>\n",
       "      <td>2012</td>\n",
       "      <td>67</td>\n",
       "      <td>67.0</td>\n",
       "      <td>45.0</td>\n",
       "    </tr>\n",
       "    <tr>\n",
       "      <th>2</th>\n",
       "      <td>318</td>\n",
       "      <td>14/JAN/67</td>\n",
       "      <td>African</td>\n",
       "      <td>None</td>\n",
       "      <td>Male</td>\n",
       "      <td>xiTsonga</td>\n",
       "      <td>South Africa</td>\n",
       "      <td>South Africa</td>\n",
       "      <td>Limpopo</td>\n",
       "      <td>Achieved</td>\n",
       "      <td>...</td>\n",
       "      <td>3082</td>\n",
       "      <td>BACHELOR OF AGRICULTURAL MANAGEMENT HONOURS</td>\n",
       "      <td>Level 7</td>\n",
       "      <td>Honours Degree</td>\n",
       "      <td>0</td>\n",
       "      <td>HEMIS</td>\n",
       "      <td>2011</td>\n",
       "      <td>67</td>\n",
       "      <td>67.0</td>\n",
       "      <td>44.0</td>\n",
       "    </tr>\n",
       "    <tr>\n",
       "      <th>5</th>\n",
       "      <td>332</td>\n",
       "      <td>08/JUN/66</td>\n",
       "      <td>African</td>\n",
       "      <td>None</td>\n",
       "      <td>Male</td>\n",
       "      <td>isiZulu</td>\n",
       "      <td>South Africa</td>\n",
       "      <td>South Africa</td>\n",
       "      <td>Kwazulu/Natal</td>\n",
       "      <td>Enrolled</td>\n",
       "      <td>...</td>\n",
       "      <td>6399</td>\n",
       "      <td>Ace</td>\n",
       "      <td>Level 5</td>\n",
       "      <td>National Certificate</td>\n",
       "      <td>0</td>\n",
       "      <td>HEMIS</td>\n",
       "      <td>2008</td>\n",
       "      <td>66</td>\n",
       "      <td>66.0</td>\n",
       "      <td>42.0</td>\n",
       "    </tr>\n",
       "  </tbody>\n",
       "</table>\n",
       "<p>4 rows × 24 columns</p>\n",
       "</div>"
      ],
      "text/plain": [
       "   LEARNER_ID DATE_OF_BIRTH   EQUITY DISABILITY  GENDER HOME_LANGUAGE  \\\n",
       "0         306     11/DEC/72  African       None  Female       seSotho   \n",
       "1         310     24/OCT/67  African       None  Female       English   \n",
       "2         318     14/JAN/67  African       None    Male      xiTsonga   \n",
       "5         332     08/JUN/66  African       None    Male       isiZulu   \n",
       "\n",
       "    NATIONALITY RESIDENT_STATUS LEARNER_PROVINCE ENROL_STATUS  ...  \\\n",
       "0  South Africa    South Africa          Gauteng     Enrolled  ...   \n",
       "1  South Africa    South Africa       North West     Achieved  ...   \n",
       "2  South Africa    South Africa          Limpopo     Achieved  ...   \n",
       "5  South Africa    South Africa    Kwazulu/Natal     Enrolled  ...   \n",
       "\n",
       "  QUALIFICATION_ID                                QUALIFICATION_TITLE  \\\n",
       "0              332  BACCALAUREUS EDUCATION: (HONS): (FET): SPECIAL...   \n",
       "1             6394  ADVANCED CERTIFICATE IN EDUCATI / GEVORDERDE O...   \n",
       "2             3082        BACHELOR OF AGRICULTURAL MANAGEMENT HONOURS   \n",
       "5             6399                                                Ace   \n",
       "\n",
       "  NQF_LEVEL    QUALIFICATION_TYPE  CREDITS_TOTAL LOAD_SUPPLIER REPORT_YEAR  \\\n",
       "0   Level 7        Honours Degree              0         HEMIS        2010   \n",
       "1   Level 5  National Certificate              0         HEMIS        2012   \n",
       "2   Level 7        Honours Degree              0         HEMIS        2011   \n",
       "5   Level 5  National Certificate              0         HEMIS        2008   \n",
       "\n",
       "  Age  Age1 STUDENT_AGE  \n",
       "0  72  72.0        38.0  \n",
       "1  67  67.0        45.0  \n",
       "2  67  67.0        44.0  \n",
       "5  66  66.0        42.0  \n",
       "\n",
       "[4 rows x 24 columns]"
      ]
     },
     "execution_count": 10,
     "metadata": {},
     "output_type": "execute_result"
    }
   ],
   "source": [
    "Labelled_data.head(4)"
   ]
  },
  {
   "cell_type": "markdown",
   "id": "62d3ed58",
   "metadata": {},
   "source": [
    "#### Undefined Values from NQF Level"
   ]
  },
  {
   "cell_type": "code",
   "execution_count": 11,
   "id": "de543700",
   "metadata": {},
   "outputs": [
    {
     "data": {
      "text/plain": [
       "(81477, 24)"
      ]
     },
     "execution_count": 11,
     "metadata": {},
     "output_type": "execute_result"
    }
   ],
   "source": [
    "Undefined= het[het['NQF_LEVEL']=='Undefined']\n",
    "Undefined.shape"
   ]
  },
  {
   "cell_type": "code",
   "execution_count": 12,
   "id": "b67e845f",
   "metadata": {},
   "outputs": [
    {
     "data": {
      "text/html": [
       "<div>\n",
       "<style scoped>\n",
       "    .dataframe tbody tr th:only-of-type {\n",
       "        vertical-align: middle;\n",
       "    }\n",
       "\n",
       "    .dataframe tbody tr th {\n",
       "        vertical-align: top;\n",
       "    }\n",
       "\n",
       "    .dataframe thead th {\n",
       "        text-align: right;\n",
       "    }\n",
       "</style>\n",
       "<table border=\"1\" class=\"dataframe\">\n",
       "  <thead>\n",
       "    <tr style=\"text-align: right;\">\n",
       "      <th></th>\n",
       "      <th>LEARNER_ID</th>\n",
       "      <th>DATE_OF_BIRTH</th>\n",
       "      <th>EQUITY</th>\n",
       "      <th>DISABILITY</th>\n",
       "      <th>GENDER</th>\n",
       "      <th>HOME_LANGUAGE</th>\n",
       "      <th>NATIONALITY</th>\n",
       "      <th>RESIDENT_STATUS</th>\n",
       "      <th>LEARNER_PROVINCE</th>\n",
       "      <th>ENROL_STATUS</th>\n",
       "      <th>...</th>\n",
       "      <th>QUALIFICATION_ID</th>\n",
       "      <th>QUALIFICATION_TITLE</th>\n",
       "      <th>NQF_LEVEL</th>\n",
       "      <th>QUALIFICATION_TYPE</th>\n",
       "      <th>CREDITS_TOTAL</th>\n",
       "      <th>LOAD_SUPPLIER</th>\n",
       "      <th>REPORT_YEAR</th>\n",
       "      <th>Age</th>\n",
       "      <th>Age1</th>\n",
       "      <th>STUDENT_AGE</th>\n",
       "    </tr>\n",
       "  </thead>\n",
       "  <tbody>\n",
       "    <tr>\n",
       "      <th>3</th>\n",
       "      <td>324</td>\n",
       "      <td>06/AUG/66</td>\n",
       "      <td>African</td>\n",
       "      <td>None</td>\n",
       "      <td>Female</td>\n",
       "      <td>isiXhosa</td>\n",
       "      <td>South Africa</td>\n",
       "      <td>South Africa</td>\n",
       "      <td>Eastern Cape</td>\n",
       "      <td>Enrolled</td>\n",
       "      <td>...</td>\n",
       "      <td>7203</td>\n",
       "      <td>OCCASIONAL STUDIES : MANAGEMENT</td>\n",
       "      <td>Undefined</td>\n",
       "      <td>Unknown</td>\n",
       "      <td>0</td>\n",
       "      <td>HEMIS</td>\n",
       "      <td>2004</td>\n",
       "      <td>66</td>\n",
       "      <td>66.0</td>\n",
       "      <td>38.0</td>\n",
       "    </tr>\n",
       "    <tr>\n",
       "      <th>4</th>\n",
       "      <td>328</td>\n",
       "      <td>01/JUN/68</td>\n",
       "      <td>African</td>\n",
       "      <td>None</td>\n",
       "      <td>Female</td>\n",
       "      <td>seSotho</td>\n",
       "      <td>South Africa</td>\n",
       "      <td>South Africa</td>\n",
       "      <td>South Africa National</td>\n",
       "      <td>Enrolled</td>\n",
       "      <td>...</td>\n",
       "      <td>7040</td>\n",
       "      <td>NON-DEGREE PURPOSES</td>\n",
       "      <td>Undefined</td>\n",
       "      <td>Unknown</td>\n",
       "      <td>0</td>\n",
       "      <td>HEMIS</td>\n",
       "      <td>2008</td>\n",
       "      <td>68</td>\n",
       "      <td>68.0</td>\n",
       "      <td>40.0</td>\n",
       "    </tr>\n",
       "    <tr>\n",
       "      <th>6</th>\n",
       "      <td>334</td>\n",
       "      <td>05/NOV/71</td>\n",
       "      <td>African</td>\n",
       "      <td>None</td>\n",
       "      <td>Female</td>\n",
       "      <td>xiTsonga</td>\n",
       "      <td>South Africa</td>\n",
       "      <td>South Africa</td>\n",
       "      <td>South Africa National</td>\n",
       "      <td>Achieved</td>\n",
       "      <td>...</td>\n",
       "      <td>2126</td>\n",
       "      <td>BACCALAUREUS TECHNOLOGIAE: PUBLIC MANAGEMENT</td>\n",
       "      <td>Undefined</td>\n",
       "      <td>National First Degree (Min 360)</td>\n",
       "      <td>0</td>\n",
       "      <td>HEMIS</td>\n",
       "      <td>2013</td>\n",
       "      <td>71</td>\n",
       "      <td>71.0</td>\n",
       "      <td>42.0</td>\n",
       "    </tr>\n",
       "    <tr>\n",
       "      <th>12</th>\n",
       "      <td>376</td>\n",
       "      <td>22/MAY/69</td>\n",
       "      <td>African</td>\n",
       "      <td>None</td>\n",
       "      <td>Male</td>\n",
       "      <td>seSotho</td>\n",
       "      <td>South Africa</td>\n",
       "      <td>South Africa</td>\n",
       "      <td>South Africa National</td>\n",
       "      <td>Enrolled</td>\n",
       "      <td>...</td>\n",
       "      <td>1281</td>\n",
       "      <td>NATIONAL DIPLOMA: SAFETY MANAGEMENT</td>\n",
       "      <td>Undefined</td>\n",
       "      <td>National Diploma</td>\n",
       "      <td>0</td>\n",
       "      <td>HEMIS</td>\n",
       "      <td>2009</td>\n",
       "      <td>69</td>\n",
       "      <td>69.0</td>\n",
       "      <td>40.0</td>\n",
       "    </tr>\n",
       "  </tbody>\n",
       "</table>\n",
       "<p>4 rows × 24 columns</p>\n",
       "</div>"
      ],
      "text/plain": [
       "    LEARNER_ID DATE_OF_BIRTH   EQUITY DISABILITY  GENDER HOME_LANGUAGE  \\\n",
       "3          324     06/AUG/66  African       None  Female      isiXhosa   \n",
       "4          328     01/JUN/68  African       None  Female       seSotho   \n",
       "6          334     05/NOV/71  African       None  Female      xiTsonga   \n",
       "12         376     22/MAY/69  African       None    Male       seSotho   \n",
       "\n",
       "     NATIONALITY RESIDENT_STATUS       LEARNER_PROVINCE ENROL_STATUS  ...  \\\n",
       "3   South Africa    South Africa           Eastern Cape     Enrolled  ...   \n",
       "4   South Africa    South Africa  South Africa National     Enrolled  ...   \n",
       "6   South Africa    South Africa  South Africa National     Achieved  ...   \n",
       "12  South Africa    South Africa  South Africa National     Enrolled  ...   \n",
       "\n",
       "   QUALIFICATION_ID                           QUALIFICATION_TITLE  NQF_LEVEL  \\\n",
       "3              7203               OCCASIONAL STUDIES : MANAGEMENT  Undefined   \n",
       "4              7040                           NON-DEGREE PURPOSES  Undefined   \n",
       "6              2126  BACCALAUREUS TECHNOLOGIAE: PUBLIC MANAGEMENT  Undefined   \n",
       "12             1281           NATIONAL DIPLOMA: SAFETY MANAGEMENT  Undefined   \n",
       "\n",
       "                 QUALIFICATION_TYPE  CREDITS_TOTAL LOAD_SUPPLIER REPORT_YEAR  \\\n",
       "3                           Unknown              0         HEMIS        2004   \n",
       "4                           Unknown              0         HEMIS        2008   \n",
       "6   National First Degree (Min 360)              0         HEMIS        2013   \n",
       "12                 National Diploma              0         HEMIS        2009   \n",
       "\n",
       "   Age  Age1 STUDENT_AGE  \n",
       "3   66  66.0        38.0  \n",
       "4   68  68.0        40.0  \n",
       "6   71  71.0        42.0  \n",
       "12  69  69.0        40.0  \n",
       "\n",
       "[4 rows x 24 columns]"
      ]
     },
     "execution_count": 12,
     "metadata": {},
     "output_type": "execute_result"
    }
   ],
   "source": [
    "Undefined.head(4)"
   ]
  },
  {
   "cell_type": "code",
   "execution_count": 13,
   "id": "b7cab9bf",
   "metadata": {},
   "outputs": [
    {
     "data": {
      "text/plain": [
       "count        200000\n",
       "unique            5\n",
       "top       Undefined\n",
       "freq          81477\n",
       "Name: NQF_LEVEL, dtype: object"
      ]
     },
     "execution_count": 13,
     "metadata": {},
     "output_type": "execute_result"
    }
   ],
   "source": [
    "het.NQF_LEVEL.describe()"
   ]
  },
  {
   "cell_type": "markdown",
   "id": "9bd56646",
   "metadata": {},
   "source": [
    "### Replacing Undefined  and Unknown with NaN"
   ]
  },
  {
   "cell_type": "code",
   "execution_count": 14,
   "id": "0ac8d34b",
   "metadata": {},
   "outputs": [],
   "source": [
    "het['NQFL']=het['NQF_LEVEL'].replace('Undefined', np.NaN)\n",
    "het['QUALIFICATION_TYPE']=het['QUALIFICATION_TYPE'].replace('Unknown', np.NaN)"
   ]
  },
  {
   "cell_type": "code",
   "execution_count": 15,
   "id": "3b951ea9",
   "metadata": {},
   "outputs": [
    {
     "data": {
      "text/html": [
       "<div>\n",
       "<style scoped>\n",
       "    .dataframe tbody tr th:only-of-type {\n",
       "        vertical-align: middle;\n",
       "    }\n",
       "\n",
       "    .dataframe tbody tr th {\n",
       "        vertical-align: top;\n",
       "    }\n",
       "\n",
       "    .dataframe thead th {\n",
       "        text-align: right;\n",
       "    }\n",
       "</style>\n",
       "<table border=\"1\" class=\"dataframe\">\n",
       "  <thead>\n",
       "    <tr style=\"text-align: right;\">\n",
       "      <th></th>\n",
       "      <th>LEARNER_ID</th>\n",
       "      <th>DATE_OF_BIRTH</th>\n",
       "      <th>EQUITY</th>\n",
       "      <th>DISABILITY</th>\n",
       "      <th>GENDER</th>\n",
       "      <th>HOME_LANGUAGE</th>\n",
       "      <th>NATIONALITY</th>\n",
       "      <th>RESIDENT_STATUS</th>\n",
       "      <th>LEARNER_PROVINCE</th>\n",
       "      <th>ENROL_STATUS</th>\n",
       "      <th>...</th>\n",
       "      <th>QUALIFICATION_TITLE</th>\n",
       "      <th>NQF_LEVEL</th>\n",
       "      <th>QUALIFICATION_TYPE</th>\n",
       "      <th>CREDITS_TOTAL</th>\n",
       "      <th>LOAD_SUPPLIER</th>\n",
       "      <th>REPORT_YEAR</th>\n",
       "      <th>Age</th>\n",
       "      <th>Age1</th>\n",
       "      <th>STUDENT_AGE</th>\n",
       "      <th>NQFL</th>\n",
       "    </tr>\n",
       "  </thead>\n",
       "  <tbody>\n",
       "    <tr>\n",
       "      <th>0</th>\n",
       "      <td>306</td>\n",
       "      <td>11/DEC/72</td>\n",
       "      <td>African</td>\n",
       "      <td>None</td>\n",
       "      <td>Female</td>\n",
       "      <td>seSotho</td>\n",
       "      <td>South Africa</td>\n",
       "      <td>South Africa</td>\n",
       "      <td>Gauteng</td>\n",
       "      <td>Enrolled</td>\n",
       "      <td>...</td>\n",
       "      <td>BACCALAUREUS EDUCATION: (HONS): (FET): SPECIAL...</td>\n",
       "      <td>Level 7</td>\n",
       "      <td>Honours Degree</td>\n",
       "      <td>0</td>\n",
       "      <td>HEMIS</td>\n",
       "      <td>2010</td>\n",
       "      <td>72</td>\n",
       "      <td>72.0</td>\n",
       "      <td>38.0</td>\n",
       "      <td>Level 7</td>\n",
       "    </tr>\n",
       "    <tr>\n",
       "      <th>1</th>\n",
       "      <td>310</td>\n",
       "      <td>24/OCT/67</td>\n",
       "      <td>African</td>\n",
       "      <td>None</td>\n",
       "      <td>Female</td>\n",
       "      <td>English</td>\n",
       "      <td>South Africa</td>\n",
       "      <td>South Africa</td>\n",
       "      <td>North West</td>\n",
       "      <td>Achieved</td>\n",
       "      <td>...</td>\n",
       "      <td>ADVANCED CERTIFICATE IN EDUCATI / GEVORDERDE O...</td>\n",
       "      <td>Level 5</td>\n",
       "      <td>National Certificate</td>\n",
       "      <td>0</td>\n",
       "      <td>HEMIS</td>\n",
       "      <td>2012</td>\n",
       "      <td>67</td>\n",
       "      <td>67.0</td>\n",
       "      <td>45.0</td>\n",
       "      <td>Level 5</td>\n",
       "    </tr>\n",
       "    <tr>\n",
       "      <th>2</th>\n",
       "      <td>318</td>\n",
       "      <td>14/JAN/67</td>\n",
       "      <td>African</td>\n",
       "      <td>None</td>\n",
       "      <td>Male</td>\n",
       "      <td>xiTsonga</td>\n",
       "      <td>South Africa</td>\n",
       "      <td>South Africa</td>\n",
       "      <td>Limpopo</td>\n",
       "      <td>Achieved</td>\n",
       "      <td>...</td>\n",
       "      <td>BACHELOR OF AGRICULTURAL MANAGEMENT HONOURS</td>\n",
       "      <td>Level 7</td>\n",
       "      <td>Honours Degree</td>\n",
       "      <td>0</td>\n",
       "      <td>HEMIS</td>\n",
       "      <td>2011</td>\n",
       "      <td>67</td>\n",
       "      <td>67.0</td>\n",
       "      <td>44.0</td>\n",
       "      <td>Level 7</td>\n",
       "    </tr>\n",
       "    <tr>\n",
       "      <th>3</th>\n",
       "      <td>324</td>\n",
       "      <td>06/AUG/66</td>\n",
       "      <td>African</td>\n",
       "      <td>None</td>\n",
       "      <td>Female</td>\n",
       "      <td>isiXhosa</td>\n",
       "      <td>South Africa</td>\n",
       "      <td>South Africa</td>\n",
       "      <td>Eastern Cape</td>\n",
       "      <td>Enrolled</td>\n",
       "      <td>...</td>\n",
       "      <td>OCCASIONAL STUDIES : MANAGEMENT</td>\n",
       "      <td>Undefined</td>\n",
       "      <td>NaN</td>\n",
       "      <td>0</td>\n",
       "      <td>HEMIS</td>\n",
       "      <td>2004</td>\n",
       "      <td>66</td>\n",
       "      <td>66.0</td>\n",
       "      <td>38.0</td>\n",
       "      <td>NaN</td>\n",
       "    </tr>\n",
       "    <tr>\n",
       "      <th>4</th>\n",
       "      <td>328</td>\n",
       "      <td>01/JUN/68</td>\n",
       "      <td>African</td>\n",
       "      <td>None</td>\n",
       "      <td>Female</td>\n",
       "      <td>seSotho</td>\n",
       "      <td>South Africa</td>\n",
       "      <td>South Africa</td>\n",
       "      <td>South Africa National</td>\n",
       "      <td>Enrolled</td>\n",
       "      <td>...</td>\n",
       "      <td>NON-DEGREE PURPOSES</td>\n",
       "      <td>Undefined</td>\n",
       "      <td>NaN</td>\n",
       "      <td>0</td>\n",
       "      <td>HEMIS</td>\n",
       "      <td>2008</td>\n",
       "      <td>68</td>\n",
       "      <td>68.0</td>\n",
       "      <td>40.0</td>\n",
       "      <td>NaN</td>\n",
       "    </tr>\n",
       "  </tbody>\n",
       "</table>\n",
       "<p>5 rows × 25 columns</p>\n",
       "</div>"
      ],
      "text/plain": [
       "   LEARNER_ID DATE_OF_BIRTH   EQUITY DISABILITY  GENDER HOME_LANGUAGE  \\\n",
       "0         306     11/DEC/72  African       None  Female       seSotho   \n",
       "1         310     24/OCT/67  African       None  Female       English   \n",
       "2         318     14/JAN/67  African       None    Male      xiTsonga   \n",
       "3         324     06/AUG/66  African       None  Female      isiXhosa   \n",
       "4         328     01/JUN/68  African       None  Female       seSotho   \n",
       "\n",
       "    NATIONALITY RESIDENT_STATUS       LEARNER_PROVINCE ENROL_STATUS  ...  \\\n",
       "0  South Africa    South Africa                Gauteng     Enrolled  ...   \n",
       "1  South Africa    South Africa             North West     Achieved  ...   \n",
       "2  South Africa    South Africa                Limpopo     Achieved  ...   \n",
       "3  South Africa    South Africa           Eastern Cape     Enrolled  ...   \n",
       "4  South Africa    South Africa  South Africa National     Enrolled  ...   \n",
       "\n",
       "                                 QUALIFICATION_TITLE  NQF_LEVEL  \\\n",
       "0  BACCALAUREUS EDUCATION: (HONS): (FET): SPECIAL...    Level 7   \n",
       "1  ADVANCED CERTIFICATE IN EDUCATI / GEVORDERDE O...    Level 5   \n",
       "2        BACHELOR OF AGRICULTURAL MANAGEMENT HONOURS    Level 7   \n",
       "3                    OCCASIONAL STUDIES : MANAGEMENT  Undefined   \n",
       "4                                NON-DEGREE PURPOSES  Undefined   \n",
       "\n",
       "     QUALIFICATION_TYPE CREDITS_TOTAL  LOAD_SUPPLIER REPORT_YEAR Age  Age1  \\\n",
       "0        Honours Degree             0          HEMIS        2010  72  72.0   \n",
       "1  National Certificate             0          HEMIS        2012  67  67.0   \n",
       "2        Honours Degree             0          HEMIS        2011  67  67.0   \n",
       "3                   NaN             0          HEMIS        2004  66  66.0   \n",
       "4                   NaN             0          HEMIS        2008  68  68.0   \n",
       "\n",
       "   STUDENT_AGE     NQFL  \n",
       "0         38.0  Level 7  \n",
       "1         45.0  Level 5  \n",
       "2         44.0  Level 7  \n",
       "3         38.0      NaN  \n",
       "4         40.0      NaN  \n",
       "\n",
       "[5 rows x 25 columns]"
      ]
     },
     "execution_count": 15,
     "metadata": {},
     "output_type": "execute_result"
    }
   ],
   "source": [
    "het.head(5)"
   ]
  },
  {
   "cell_type": "markdown",
   "id": "2fcb6d57",
   "metadata": {},
   "source": [
    "### Dropping features that are more biased"
   ]
  },
  {
   "cell_type": "code",
   "execution_count": 16,
   "id": "d2a78a46",
   "metadata": {},
   "outputs": [],
   "source": [
    "New_het=het.drop(['LEARNER_ID',\t'DATE_OF_BIRTH', 'NATIONALITY',\t'RESIDENT_STATUS','QUALIFICATION_TITLE','NQF_LEVEL','CREDITS_TOTAL','ENROL_DATE','ENROL_STATUS_DATE','PROVIDER_NAME','NQF_LEVEL','LOAD_SUPPLIER','Age','Age1'], axis=True)"
   ]
  },
  {
   "cell_type": "code",
   "execution_count": 17,
   "id": "f35274bd",
   "metadata": {},
   "outputs": [
    {
     "data": {
      "text/html": [
       "<div>\n",
       "<style scoped>\n",
       "    .dataframe tbody tr th:only-of-type {\n",
       "        vertical-align: middle;\n",
       "    }\n",
       "\n",
       "    .dataframe tbody tr th {\n",
       "        vertical-align: top;\n",
       "    }\n",
       "\n",
       "    .dataframe thead th {\n",
       "        text-align: right;\n",
       "    }\n",
       "</style>\n",
       "<table border=\"1\" class=\"dataframe\">\n",
       "  <thead>\n",
       "    <tr style=\"text-align: right;\">\n",
       "      <th></th>\n",
       "      <th>EQUITY</th>\n",
       "      <th>DISABILITY</th>\n",
       "      <th>GENDER</th>\n",
       "      <th>HOME_LANGUAGE</th>\n",
       "      <th>LEARNER_PROVINCE</th>\n",
       "      <th>ENROL_STATUS</th>\n",
       "      <th>ENROL_TYPE</th>\n",
       "      <th>QUALIFICATION_ID</th>\n",
       "      <th>QUALIFICATION_TYPE</th>\n",
       "      <th>REPORT_YEAR</th>\n",
       "      <th>STUDENT_AGE</th>\n",
       "      <th>NQFL</th>\n",
       "    </tr>\n",
       "  </thead>\n",
       "  <tbody>\n",
       "    <tr>\n",
       "      <th>0</th>\n",
       "      <td>African</td>\n",
       "      <td>None</td>\n",
       "      <td>Female</td>\n",
       "      <td>seSotho</td>\n",
       "      <td>Gauteng</td>\n",
       "      <td>Enrolled</td>\n",
       "      <td>Residential (Contact) Learning</td>\n",
       "      <td>332</td>\n",
       "      <td>Honours Degree</td>\n",
       "      <td>2010</td>\n",
       "      <td>38.0</td>\n",
       "      <td>Level 7</td>\n",
       "    </tr>\n",
       "    <tr>\n",
       "      <th>1</th>\n",
       "      <td>African</td>\n",
       "      <td>None</td>\n",
       "      <td>Female</td>\n",
       "      <td>English</td>\n",
       "      <td>North West</td>\n",
       "      <td>Achieved</td>\n",
       "      <td>Distance Learning</td>\n",
       "      <td>6394</td>\n",
       "      <td>National Certificate</td>\n",
       "      <td>2012</td>\n",
       "      <td>45.0</td>\n",
       "      <td>Level 5</td>\n",
       "    </tr>\n",
       "    <tr>\n",
       "      <th>2</th>\n",
       "      <td>African</td>\n",
       "      <td>None</td>\n",
       "      <td>Male</td>\n",
       "      <td>xiTsonga</td>\n",
       "      <td>Limpopo</td>\n",
       "      <td>Achieved</td>\n",
       "      <td>Residential (Contact) Learning</td>\n",
       "      <td>3082</td>\n",
       "      <td>Honours Degree</td>\n",
       "      <td>2011</td>\n",
       "      <td>44.0</td>\n",
       "      <td>Level 7</td>\n",
       "    </tr>\n",
       "    <tr>\n",
       "      <th>3</th>\n",
       "      <td>African</td>\n",
       "      <td>None</td>\n",
       "      <td>Female</td>\n",
       "      <td>isiXhosa</td>\n",
       "      <td>Eastern Cape</td>\n",
       "      <td>Enrolled</td>\n",
       "      <td>Residential (Contact) Learning</td>\n",
       "      <td>7203</td>\n",
       "      <td>NaN</td>\n",
       "      <td>2004</td>\n",
       "      <td>38.0</td>\n",
       "      <td>NaN</td>\n",
       "    </tr>\n",
       "    <tr>\n",
       "      <th>4</th>\n",
       "      <td>African</td>\n",
       "      <td>None</td>\n",
       "      <td>Female</td>\n",
       "      <td>seSotho</td>\n",
       "      <td>South Africa National</td>\n",
       "      <td>Enrolled</td>\n",
       "      <td>Distance Learning</td>\n",
       "      <td>7040</td>\n",
       "      <td>NaN</td>\n",
       "      <td>2008</td>\n",
       "      <td>40.0</td>\n",
       "      <td>NaN</td>\n",
       "    </tr>\n",
       "  </tbody>\n",
       "</table>\n",
       "</div>"
      ],
      "text/plain": [
       "    EQUITY DISABILITY  GENDER HOME_LANGUAGE       LEARNER_PROVINCE  \\\n",
       "0  African       None  Female       seSotho                Gauteng   \n",
       "1  African       None  Female       English             North West   \n",
       "2  African       None    Male      xiTsonga                Limpopo   \n",
       "3  African       None  Female      isiXhosa           Eastern Cape   \n",
       "4  African       None  Female       seSotho  South Africa National   \n",
       "\n",
       "  ENROL_STATUS                      ENROL_TYPE  QUALIFICATION_ID  \\\n",
       "0     Enrolled  Residential (Contact) Learning               332   \n",
       "1     Achieved               Distance Learning              6394   \n",
       "2     Achieved  Residential (Contact) Learning              3082   \n",
       "3     Enrolled  Residential (Contact) Learning              7203   \n",
       "4     Enrolled               Distance Learning              7040   \n",
       "\n",
       "     QUALIFICATION_TYPE  REPORT_YEAR  STUDENT_AGE     NQFL  \n",
       "0        Honours Degree         2010         38.0  Level 7  \n",
       "1  National Certificate         2012         45.0  Level 5  \n",
       "2        Honours Degree         2011         44.0  Level 7  \n",
       "3                   NaN         2004         38.0      NaN  \n",
       "4                   NaN         2008         40.0      NaN  "
      ]
     },
     "execution_count": 17,
     "metadata": {},
     "output_type": "execute_result"
    }
   ],
   "source": [
    "New_het.head()"
   ]
  },
  {
   "cell_type": "markdown",
   "id": "0af3efb8",
   "metadata": {},
   "source": [
    "### summarize the number of rows with missing values for each column"
   ]
  },
  {
   "cell_type": "code",
   "execution_count": 18,
   "id": "c99e9520",
   "metadata": {},
   "outputs": [
    {
     "data": {
      "text/plain": [
       "LEARNER_ID              0.0000\n",
       "DATE_OF_BIRTH           0.0005\n",
       "EQUITY                  0.0000\n",
       "DISABILITY              0.0000\n",
       "GENDER                  0.0000\n",
       "HOME_LANGUAGE           0.0000\n",
       "NATIONALITY             0.0000\n",
       "RESIDENT_STATUS         0.0000\n",
       "LEARNER_PROVINCE        0.0000\n",
       "ENROL_STATUS            0.0000\n",
       "ENROL_TYPE              0.0000\n",
       "ENROL_DATE              0.0995\n",
       "ENROL_STATUS_DATE       0.0000\n",
       "PROVIDER_NAME           0.0000\n",
       "QUALIFICATION_ID        0.0000\n",
       "QUALIFICATION_TITLE     0.0000\n",
       "NQF_LEVEL               0.0000\n",
       "QUALIFICATION_TYPE      4.0955\n",
       "CREDITS_TOTAL           0.0000\n",
       "LOAD_SUPPLIER           0.0000\n",
       "REPORT_YEAR             0.0000\n",
       "Age                     0.0005\n",
       "Age1                    0.0005\n",
       "STUDENT_AGE             0.0005\n",
       "NQFL                   40.7385\n",
       "dtype: float64"
      ]
     },
     "execution_count": 18,
     "metadata": {},
     "output_type": "execute_result"
    }
   ],
   "source": [
    "\n",
    "round(het.isnull().mean() * 100,5) # percentage of null values"
   ]
  },
  {
   "cell_type": "markdown",
   "id": "94b1b3e6",
   "metadata": {},
   "source": [
    "### Showing Unique values from NQFL"
   ]
  },
  {
   "cell_type": "code",
   "execution_count": 19,
   "id": "db9ec172",
   "metadata": {
    "scrolled": true
   },
   "outputs": [
    {
     "data": {
      "text/plain": [
       "array(['Level 7', 'Level 5', nan, 'Level 6', 'Level 8 and above'],\n",
       "      dtype=object)"
      ]
     },
     "execution_count": 19,
     "metadata": {},
     "output_type": "execute_result"
    }
   ],
   "source": [
    "New_het.NQFL.unique()"
   ]
  },
  {
   "cell_type": "markdown",
   "id": "1b7a24dc",
   "metadata": {},
   "source": [
    "### Replacing NQFL's with (Level n)"
   ]
  },
  {
   "cell_type": "code",
   "execution_count": 20,
   "id": "19ecedee",
   "metadata": {},
   "outputs": [],
   "source": [
    "df=New_het.replace({\"NQFL\":{'NQF Level 03':'Level 3','NQF Level 04':'Level 4','NQF Level 01':'Level 1','NQF Level 02':'Level 2','NQF Level 07':'Level 7','NQF Level 05':'Level 5','NQF Level 06':'Level 6',\n",
    "                            'NQF Level 08':'Level 8','Level N/A: Pre-2009 was L5':'Level 5',\n",
    "                            'Level N/A: Pre-2009 was L6':'Level 6','Level N/A: Pre-2009 was L7':'Level 7',\n",
    "                            'Level TBA: Pre-2009 was L7':'Level 7','Level TBA: Pre-2009 was L5':'Level 5',\n",
    "                            'Level TBA: Pre-2009 was L6':'Level 6','Level N/A: Pre-2009 was L8+':'Level 8+',\n",
    "                            'NQF Level 10':'Level 10','NQF Level 09':'Level 9','Level 8 and above':'Level L8+',\n",
    "                            'Level N/A:Pre-2009 was L8+':'Level 8', 'Not Applicable':np.NaN}})"
   ]
  },
  {
   "cell_type": "markdown",
   "id": "35d503df",
   "metadata": {},
   "source": [
    "### Showing attributes values unique"
   ]
  },
  {
   "cell_type": "code",
   "execution_count": 21,
   "id": "173fe3d5",
   "metadata": {},
   "outputs": [
    {
     "data": {
      "text/plain": [
       "array(['Level 7', 'Level 5', nan, 'Level 6', 'Level L8+'], dtype=object)"
      ]
     },
     "execution_count": 21,
     "metadata": {},
     "output_type": "execute_result"
    }
   ],
   "source": [
    "df.NQFL.unique()"
   ]
  },
  {
   "cell_type": "code",
   "execution_count": 22,
   "id": "410200b8",
   "metadata": {},
   "outputs": [
    {
     "data": {
      "text/plain": [
       "array([ 332, 6394, 3082, ..., 5963, 4041, 2031])"
      ]
     },
     "execution_count": 22,
     "metadata": {},
     "output_type": "execute_result"
    }
   ],
   "source": [
    "df.QUALIFICATION_ID.unique()"
   ]
  },
  {
   "cell_type": "code",
   "execution_count": 23,
   "id": "627f6963",
   "metadata": {},
   "outputs": [
    {
     "data": {
      "text/plain": [
       "array(['Honours Degree', 'National Certificate', nan,\n",
       "       'National First Degree (Min 360)', 'National Diploma',\n",
       "       'Masters Degree', 'Doctoral Degree', 'National First Degree)',\n",
       "       'Post Graduate Diploma', 'PG B Deg (phasing out) eg B Ed',\n",
       "       'National Higher Certificate', 'National First Degree (Min 480)',\n",
       "       'National Higher Diploma', 'Higher Certificate', 'Diploma',\n",
       "       'Advanced Diploma', 'National Masters Diploma'], dtype=object)"
      ]
     },
     "execution_count": 23,
     "metadata": {},
     "output_type": "execute_result"
    }
   ],
   "source": [
    "df.QUALIFICATION_TYPE.unique()"
   ]
  },
  {
   "cell_type": "code",
   "execution_count": 24,
   "id": "7a7654da",
   "metadata": {},
   "outputs": [
    {
     "data": {
      "text/plain": [
       "array(['Gauteng', 'North West', 'Limpopo', 'Eastern Cape',\n",
       "       'South Africa National', 'Kwazulu/Natal', 'Western Cape',\n",
       "       'Free State', 'Northern Cape', 'Mpumalanga',\n",
       "       'Outside South Africa'], dtype=object)"
      ]
     },
     "execution_count": 24,
     "metadata": {},
     "output_type": "execute_result"
    }
   ],
   "source": [
    "df.LEARNER_PROVINCE.unique()"
   ]
  },
  {
   "cell_type": "code",
   "execution_count": 25,
   "id": "b52bb48e",
   "metadata": {},
   "outputs": [
    {
     "data": {
      "text/plain": [
       "array(['Level 7', 'Level 5', nan, 'Level 6', 'Level L8+'], dtype=object)"
      ]
     },
     "execution_count": 25,
     "metadata": {},
     "output_type": "execute_result"
    }
   ],
   "source": [
    "df.NQFL.unique()"
   ]
  },
  {
   "cell_type": "code",
   "execution_count": 26,
   "id": "c36df969",
   "metadata": {},
   "outputs": [
    {
     "data": {
      "text/plain": [
       "array(['Enrolled', 'Achieved'], dtype=object)"
      ]
     },
     "execution_count": 26,
     "metadata": {},
     "output_type": "execute_result"
    }
   ],
   "source": [
    "df.ENROL_STATUS.unique()"
   ]
  },
  {
   "cell_type": "code",
   "execution_count": 27,
   "id": "cb9da178",
   "metadata": {},
   "outputs": [
    {
     "data": {
      "text/plain": [
       "array(['Female', 'Male', 'Unkown'], dtype=object)"
      ]
     },
     "execution_count": 27,
     "metadata": {},
     "output_type": "execute_result"
    }
   ],
   "source": [
    "df.GENDER.unique()"
   ]
  },
  {
   "cell_type": "markdown",
   "id": "83497af8",
   "metadata": {},
   "source": [
    "### Droping Equity, Disability, Report year and Province"
   ]
  },
  {
   "cell_type": "code",
   "execution_count": 28,
   "id": "dfdc485a",
   "metadata": {},
   "outputs": [],
   "source": [
    "df.drop(\"EQUITY\",axis=1,inplace=True)\n",
    "df.drop(\"DISABILITY\",axis=1,inplace=True)\n",
    "df.drop(\"REPORT_YEAR\",axis=1,inplace=True)\n",
    "df.drop(\"LEARNER_PROVINCE\",axis=1,inplace=True)"
   ]
  },
  {
   "cell_type": "markdown",
   "id": "59d2e9ad",
   "metadata": {},
   "source": [
    "### Label encoding "
   ]
  },
  {
   "cell_type": "code",
   "execution_count": 29,
   "id": "f11539b7",
   "metadata": {},
   "outputs": [],
   "source": [
    "from sklearn.preprocessing import LabelEncoder\n",
    "le = LabelEncoder()\n",
    "df['GENDER'] = le.fit_transform(df['GENDER'])\n",
    "df['HOME_LANGUAGE'] = le.fit_transform(df['HOME_LANGUAGE'])\n",
    "df['ENROL_STATUS'] = le.fit_transform(df['ENROL_STATUS'])\n",
    "df['ENROL_TYPE'] = le.fit_transform(df['ENROL_TYPE'])\n",
    "df['QUALIFICATION_TYPE'] = le.fit_transform(df['QUALIFICATION_TYPE'])\n",
    "df['NQFL'] = le.fit_transform(df['NQFL'])"
   ]
  },
  {
   "cell_type": "markdown",
   "id": "0b8e5d0d",
   "metadata": {},
   "source": [
    "### Creating Another New dataframe to Be used later"
   ]
  },
  {
   "cell_type": "code",
   "execution_count": 35,
   "id": "1176cef9",
   "metadata": {},
   "outputs": [],
   "source": [
    "New_het=df\n",
    "New_het['NQFL']=New_het['NQFL'].replace(4, np.NaN)\n",
    "New_het['QUALIFICATION_TYPE']=New_het['QUALIFICATION_TYPE'].replace(16, np.NaN)\n",
    "New_het1=New_het"
   ]
  },
  {
   "cell_type": "code",
   "execution_count": 36,
   "id": "6861cc51",
   "metadata": {
    "scrolled": false
   },
   "outputs": [
    {
     "data": {
      "text/html": [
       "<div>\n",
       "<style scoped>\n",
       "    .dataframe tbody tr th:only-of-type {\n",
       "        vertical-align: middle;\n",
       "    }\n",
       "\n",
       "    .dataframe tbody tr th {\n",
       "        vertical-align: top;\n",
       "    }\n",
       "\n",
       "    .dataframe thead th {\n",
       "        text-align: right;\n",
       "    }\n",
       "</style>\n",
       "<table border=\"1\" class=\"dataframe\">\n",
       "  <thead>\n",
       "    <tr style=\"text-align: right;\">\n",
       "      <th></th>\n",
       "      <th>GENDER</th>\n",
       "      <th>HOME_LANGUAGE</th>\n",
       "      <th>ENROL_STATUS</th>\n",
       "      <th>ENROL_TYPE</th>\n",
       "      <th>QUALIFICATION_ID</th>\n",
       "      <th>QUALIFICATION_TYPE</th>\n",
       "      <th>STUDENT_AGE</th>\n",
       "      <th>NQFL</th>\n",
       "    </tr>\n",
       "  </thead>\n",
       "  <tbody>\n",
       "    <tr>\n",
       "      <th>0</th>\n",
       "      <td>0</td>\n",
       "      <td>9</td>\n",
       "      <td>1</td>\n",
       "      <td>2</td>\n",
       "      <td>332</td>\n",
       "      <td>4.0</td>\n",
       "      <td>38.0</td>\n",
       "      <td>2.0</td>\n",
       "    </tr>\n",
       "    <tr>\n",
       "      <th>1</th>\n",
       "      <td>0</td>\n",
       "      <td>1</td>\n",
       "      <td>0</td>\n",
       "      <td>0</td>\n",
       "      <td>6394</td>\n",
       "      <td>6.0</td>\n",
       "      <td>45.0</td>\n",
       "      <td>0.0</td>\n",
       "    </tr>\n",
       "    <tr>\n",
       "      <th>2</th>\n",
       "      <td>1</td>\n",
       "      <td>13</td>\n",
       "      <td>0</td>\n",
       "      <td>2</td>\n",
       "      <td>3082</td>\n",
       "      <td>4.0</td>\n",
       "      <td>44.0</td>\n",
       "      <td>2.0</td>\n",
       "    </tr>\n",
       "    <tr>\n",
       "      <th>3</th>\n",
       "      <td>0</td>\n",
       "      <td>6</td>\n",
       "      <td>1</td>\n",
       "      <td>2</td>\n",
       "      <td>7203</td>\n",
       "      <td>NaN</td>\n",
       "      <td>38.0</td>\n",
       "      <td>NaN</td>\n",
       "    </tr>\n",
       "    <tr>\n",
       "      <th>4</th>\n",
       "      <td>0</td>\n",
       "      <td>9</td>\n",
       "      <td>1</td>\n",
       "      <td>0</td>\n",
       "      <td>7040</td>\n",
       "      <td>NaN</td>\n",
       "      <td>40.0</td>\n",
       "      <td>NaN</td>\n",
       "    </tr>\n",
       "  </tbody>\n",
       "</table>\n",
       "</div>"
      ],
      "text/plain": [
       "   GENDER  HOME_LANGUAGE  ENROL_STATUS  ENROL_TYPE  QUALIFICATION_ID  \\\n",
       "0       0              9             1           2               332   \n",
       "1       0              1             0           0              6394   \n",
       "2       1             13             0           2              3082   \n",
       "3       0              6             1           2              7203   \n",
       "4       0              9             1           0              7040   \n",
       "\n",
       "   QUALIFICATION_TYPE  STUDENT_AGE  NQFL  \n",
       "0                 4.0         38.0   2.0  \n",
       "1                 6.0         45.0   0.0  \n",
       "2                 4.0         44.0   2.0  \n",
       "3                 NaN         38.0   NaN  \n",
       "4                 NaN         40.0   NaN  "
      ]
     },
     "execution_count": 36,
     "metadata": {},
     "output_type": "execute_result"
    }
   ],
   "source": [
    "New_het.head(5)"
   ]
  },
  {
   "cell_type": "markdown",
   "id": "46a6c3aa",
   "metadata": {},
   "source": [
    "### Checking the Info\n"
   ]
  },
  {
   "cell_type": "code",
   "execution_count": 37,
   "id": "8cd4e35c",
   "metadata": {},
   "outputs": [
    {
     "name": "stdout",
     "output_type": "stream",
     "text": [
      "<class 'pandas.core.frame.DataFrame'>\n",
      "RangeIndex: 200000 entries, 0 to 199999\n",
      "Data columns (total 8 columns):\n",
      " #   Column              Non-Null Count   Dtype  \n",
      "---  ------              --------------   -----  \n",
      " 0   GENDER              200000 non-null  int64  \n",
      " 1   HOME_LANGUAGE       200000 non-null  int64  \n",
      " 2   ENROL_STATUS        200000 non-null  int64  \n",
      " 3   ENROL_TYPE          200000 non-null  int64  \n",
      " 4   QUALIFICATION_ID    200000 non-null  int64  \n",
      " 5   QUALIFICATION_TYPE  191809 non-null  float64\n",
      " 6   STUDENT_AGE         199999 non-null  float64\n",
      " 7   NQFL                118523 non-null  float64\n",
      "dtypes: float64(3), int64(5)\n",
      "memory usage: 12.2 MB\n"
     ]
    }
   ],
   "source": [
    "New_het.info()"
   ]
  },
  {
   "cell_type": "markdown",
   "id": "fee77122",
   "metadata": {},
   "source": [
    "### Checking the Missing Values "
   ]
  },
  {
   "cell_type": "code",
   "execution_count": 38,
   "id": "df916a5e",
   "metadata": {},
   "outputs": [
    {
     "name": "stdout",
     "output_type": "stream",
     "text": [
      "GENDER                    0\n",
      "HOME_LANGUAGE             0\n",
      "ENROL_STATUS              0\n",
      "ENROL_TYPE                0\n",
      "QUALIFICATION_ID          0\n",
      "QUALIFICATION_TYPE     8191\n",
      "STUDENT_AGE               1\n",
      "NQFL                  81477\n",
      "dtype: int64\n"
     ]
    }
   ],
   "source": [
    "print(New_het.isnull().sum())"
   ]
  },
  {
   "cell_type": "markdown",
   "id": "a40a2973",
   "metadata": {},
   "source": [
    "### Importing MinMaxScaler and Normalise the data"
   ]
  },
  {
   "cell_type": "code",
   "execution_count": 39,
   "id": "9fba5a29",
   "metadata": {},
   "outputs": [
    {
     "data": {
      "text/html": [
       "<div>\n",
       "<style scoped>\n",
       "    .dataframe tbody tr th:only-of-type {\n",
       "        vertical-align: middle;\n",
       "    }\n",
       "\n",
       "    .dataframe tbody tr th {\n",
       "        vertical-align: top;\n",
       "    }\n",
       "\n",
       "    .dataframe thead th {\n",
       "        text-align: right;\n",
       "    }\n",
       "</style>\n",
       "<table border=\"1\" class=\"dataframe\">\n",
       "  <thead>\n",
       "    <tr style=\"text-align: right;\">\n",
       "      <th></th>\n",
       "      <th>GENDER</th>\n",
       "      <th>HOME_LANGUAGE</th>\n",
       "      <th>ENROL_STATUS</th>\n",
       "      <th>QUALIFICATION_ID</th>\n",
       "      <th>QUALIFICATION_TYPE</th>\n",
       "      <th>STUDENT_AGE</th>\n",
       "      <th>NQFL</th>\n",
       "    </tr>\n",
       "  </thead>\n",
       "  <tbody>\n",
       "    <tr>\n",
       "      <th>0</th>\n",
       "      <td>0.0</td>\n",
       "      <td>0.692308</td>\n",
       "      <td>1.0</td>\n",
       "      <td>0.026307</td>\n",
       "      <td>0.266667</td>\n",
       "      <td>0.27</td>\n",
       "      <td>0.666667</td>\n",
       "    </tr>\n",
       "    <tr>\n",
       "      <th>1</th>\n",
       "      <td>0.0</td>\n",
       "      <td>0.076923</td>\n",
       "      <td>0.0</td>\n",
       "      <td>0.509566</td>\n",
       "      <td>0.400000</td>\n",
       "      <td>0.34</td>\n",
       "      <td>0.000000</td>\n",
       "    </tr>\n",
       "    <tr>\n",
       "      <th>2</th>\n",
       "      <td>0.5</td>\n",
       "      <td>1.000000</td>\n",
       "      <td>0.0</td>\n",
       "      <td>0.245536</td>\n",
       "      <td>0.266667</td>\n",
       "      <td>0.33</td>\n",
       "      <td>0.666667</td>\n",
       "    </tr>\n",
       "    <tr>\n",
       "      <th>3</th>\n",
       "      <td>0.0</td>\n",
       "      <td>0.461538</td>\n",
       "      <td>1.0</td>\n",
       "      <td>0.574059</td>\n",
       "      <td>NaN</td>\n",
       "      <td>0.27</td>\n",
       "      <td>NaN</td>\n",
       "    </tr>\n",
       "    <tr>\n",
       "      <th>4</th>\n",
       "      <td>0.0</td>\n",
       "      <td>0.692308</td>\n",
       "      <td>1.0</td>\n",
       "      <td>0.561065</td>\n",
       "      <td>NaN</td>\n",
       "      <td>0.29</td>\n",
       "      <td>NaN</td>\n",
       "    </tr>\n",
       "  </tbody>\n",
       "</table>\n",
       "</div>"
      ],
      "text/plain": [
       "   GENDER  HOME_LANGUAGE  ENROL_STATUS  QUALIFICATION_ID  QUALIFICATION_TYPE  \\\n",
       "0     0.0       0.692308           1.0          0.026307            0.266667   \n",
       "1     0.0       0.076923           0.0          0.509566            0.400000   \n",
       "2     0.5       1.000000           0.0          0.245536            0.266667   \n",
       "3     0.0       0.461538           1.0          0.574059                 NaN   \n",
       "4     0.0       0.692308           1.0          0.561065                 NaN   \n",
       "\n",
       "   STUDENT_AGE      NQFL  \n",
       "0         0.27  0.666667  \n",
       "1         0.34  0.000000  \n",
       "2         0.33  0.666667  \n",
       "3         0.27       NaN  \n",
       "4         0.29       NaN  "
      ]
     },
     "execution_count": 39,
     "metadata": {},
     "output_type": "execute_result"
    }
   ],
   "source": [
    "# standardize features\n",
    "from sklearn.preprocessing import MinMaxScaler\n",
    "scaler = MinMaxScaler()\n",
    "Data = pd.DataFrame(scaler.fit_transform(New_het), columns = New_het.columns)\n",
    "Data=Data.drop(['ENROL_TYPE'], axis=True)\n",
    "Data.head()"
   ]
  },
  {
   "cell_type": "markdown",
   "id": "2d026156",
   "metadata": {},
   "source": [
    "### Declaring target"
   ]
  },
  {
   "cell_type": "code",
   "execution_count": 40,
   "id": "45b6b71a",
   "metadata": {},
   "outputs": [
    {
     "data": {
      "text/plain": [
       "(200000,)"
      ]
     },
     "execution_count": 40,
     "metadata": {},
     "output_type": "execute_result"
    }
   ],
   "source": [
    "y= New_het['ENROL_TYPE']\n",
    "y.shape"
   ]
  },
  {
   "cell_type": "markdown",
   "id": "274545c9",
   "metadata": {},
   "source": [
    "### Dropping raws with NaN (Dealing with Missing Values)"
   ]
  },
  {
   "cell_type": "code",
   "execution_count": 41,
   "id": "d681e9b2",
   "metadata": {},
   "outputs": [],
   "source": [
    "Data=Data.dropna(axis=1)"
   ]
  },
  {
   "cell_type": "markdown",
   "id": "b746c9f4",
   "metadata": {},
   "source": [
    "### Split data in to Training and Test"
   ]
  },
  {
   "cell_type": "code",
   "execution_count": 42,
   "id": "2f0d19fd",
   "metadata": {},
   "outputs": [
    {
     "name": "stdout",
     "output_type": "stream",
     "text": [
      "Train (134000, 4) (134000,)\n",
      "Test (66000, 4) (66000,)\n"
     ]
    }
   ],
   "source": [
    "# split into train and test sets\n",
    "X_train, X_test, y_train, y_test = train_test_split(Data, y, test_size=0.33, random_state=1)\n",
    "# summarize\n",
    "print('Train', X_train.shape, y_train.shape)\n",
    "print('Test', X_test.shape, y_test.shape)"
   ]
  },
  {
   "cell_type": "markdown",
   "id": "688efbb6",
   "metadata": {},
   "source": [
    "### Using Chi Square Feature Selection "
   ]
  },
  {
   "cell_type": "code",
   "execution_count": 43,
   "id": "6663ed07",
   "metadata": {},
   "outputs": [],
   "source": [
    "fs = SelectKBest(score_func=chi2, k='all')\n",
    "fs.fit(X_train, y_train)\n",
    "X_train_fs = fs.transform(X_train)\n",
    "X_test_fs = fs.transform(X_test)"
   ]
  },
  {
   "cell_type": "code",
   "execution_count": 44,
   "id": "6ef66caa",
   "metadata": {},
   "outputs": [
    {
     "name": "stdout",
     "output_type": "stream",
     "text": [
      "Feature 0: 245.243428\n",
      "Feature 1: 91.964028\n",
      "Feature 2: 4693.354551\n",
      "Feature 3: 1794.520514\n"
     ]
    },
    {
     "data": {
      "image/png": "[encoded data removed]",
      "text/plain": [
       "<Figure size 432x288 with 1 Axes>"
      ]
     },
     "metadata": {},
     "output_type": "display_data"
    }
   ],
   "source": [
    "# scores for the featuresX_test\n",
    "for i in range(len(fs.scores_)):\n",
    "\tprint('Feature %d: %f' % (i, fs.scores_[i]))\n",
    "# plot the scores\n",
    "pyplot.bar([i for i in range(len(fs.scores_))], fs.scores_)\n",
    "pyplot.show()"
   ]
  },
  {
   "cell_type": "markdown",
   "id": "02dbae5a",
   "metadata": {},
   "source": [
    "### Fitting Logistic Regression after (Removing : NaNs)"
   ]
  },
  {
   "cell_type": "code",
   "execution_count": 45,
   "id": "d016436a",
   "metadata": {},
   "outputs": [
    {
     "data": {
      "text/plain": [
       "LogisticRegression(multi_class='multinomial')"
      ]
     },
     "execution_count": 45,
     "metadata": {},
     "output_type": "execute_result"
    }
   ],
   "source": [
    "# fit the model\n",
    "model = LogisticRegression(multi_class = 'multinomial', solver='lbfgs')\n",
    "model.fit(X_train, y_train)"
   ]
  },
  {
   "cell_type": "markdown",
   "id": "27228a64",
   "metadata": {},
   "source": [
    "### Accuracy in percentages"
   ]
  },
  {
   "cell_type": "code",
   "execution_count": 46,
   "id": "ebea38b0",
   "metadata": {},
   "outputs": [
    {
     "name": "stdout",
     "output_type": "stream",
     "text": [
      "Accuracy: 67.41\n"
     ]
    }
   ],
   "source": [
    "# evaluate the model\n",
    "yhat = model.predict(X_test)\n",
    "# evaluate predictions\n",
    "accuracy = accuracy_score(y_test, yhat)\n",
    "print('Accuracy: %.2f' % (accuracy*100))"
   ]
  },
  {
   "cell_type": "markdown",
   "id": "a461d978",
   "metadata": {},
   "source": [
    "### Mutual info class feature (Removing NaNs)"
   ]
  },
  {
   "cell_type": "code",
   "execution_count": 47,
   "id": "8316f1e5",
   "metadata": {},
   "outputs": [],
   "source": [
    "# feature selection\n",
    "def select_features(X_train, y_train, X_test):\n",
    "    fs = SelectKBest(score_func=mutual_info_classif, k=3)\n",
    "    fs.fit(X_train, y_train)\n",
    "    X_train_fs = fs.transform(X_train)\n",
    "    X_test_fs = fs.transform(X_test)\n",
    "    return X_train_fs, X_test_fs"
   ]
  },
  {
   "cell_type": "code",
   "execution_count": 48,
   "id": "b38ed9cd",
   "metadata": {},
   "outputs": [
    {
     "name": "stdout",
     "output_type": "stream",
     "text": [
      "Accuracy: 66.30\n"
     ]
    }
   ],
   "source": [
    "# feature selection\n",
    "X_train_fs, X_test_fs = select_features(X_train, y_train, X_test)\n",
    "# fit the model\n",
    "model = LogisticRegression(solver='lbfgs')\n",
    "model.fit(X_train_fs, y_train)\n",
    "# evaluate the model\n",
    "yhat = model.predict(X_test_fs)\n",
    "# evaluate predictions\n",
    "accuracy = accuracy_score(y_test, yhat)\n",
    "print('Accuracy: %.2f' % (accuracy*100))"
   ]
  },
  {
   "cell_type": "markdown",
   "id": "0778580e",
   "metadata": {},
   "source": [
    "### Decision Tree Classifier  (Removing NaNs)"
   ]
  },
  {
   "cell_type": "code",
   "execution_count": 49,
   "id": "d3b43f84",
   "metadata": {},
   "outputs": [],
   "source": [
    "dtree_model = DecisionTreeClassifier(max_depth = 2).fit(X_train, y_train)\n",
    "dtree_predictions = dtree_model.predict(X_test)\n",
    "  \n",
    "# creating a confusion matrix\n",
    "cm = confusion_matrix(y_test, dtree_predictions)\n",
    "#cm"
   ]
  },
  {
   "cell_type": "code",
   "execution_count": 50,
   "id": "0dea04ff",
   "metadata": {},
   "outputs": [
    {
     "data": {
      "text/plain": [
       "DecisionTreeClassifier()"
      ]
     },
     "execution_count": 50,
     "metadata": {},
     "output_type": "execute_result"
    }
   ],
   "source": [
    "from sklearn.tree import DecisionTreeClassifier\n",
    "classifier = DecisionTreeClassifier()\n",
    "classifier.fit(X_train, y_train)"
   ]
  },
  {
   "cell_type": "code",
   "execution_count": 51,
   "id": "45fbdbbb",
   "metadata": {},
   "outputs": [],
   "source": [
    "y_pred = classifier.predict(X_test)"
   ]
  },
  {
   "cell_type": "code",
   "execution_count": 52,
   "id": "3fbfbea1",
   "metadata": {},
   "outputs": [
    {
     "name": "stdout",
     "output_type": "stream",
     "text": [
      "              precision    recall  f1-score   support\n",
      "\n",
      "           0       0.99      0.99      0.99     28335\n",
      "           1       0.00      0.00      0.00         9\n",
      "           2       0.99      0.99      0.99     37656\n",
      "\n",
      "    accuracy                           0.99     66000\n",
      "   macro avg       0.66      0.66      0.66     66000\n",
      "weighted avg       0.99      0.99      0.99     66000\n",
      "\n"
     ]
    }
   ],
   "source": [
    "from sklearn.metrics import classification_report, confusion_matrix\n",
    "#print(confusion_matrix(y_test, y_pred))\n",
    "print(classification_report(y_test, y_pred))"
   ]
  },
  {
   "cell_type": "markdown",
   "id": "bdc363c4",
   "metadata": {},
   "source": [
    "### Random Forest (Removing NaNs)"
   ]
  },
  {
   "cell_type": "code",
   "execution_count": 53,
   "id": "d4e70a13",
   "metadata": {},
   "outputs": [
    {
     "data": {
      "text/plain": [
       "'from sklearn import model_selection\\n# random forest model creation\\nrfc = RandomForestClassifier()\\nrfc.fit(X_train,y_train)\\n# predictions\\nrfc_predict = rfc.predict(X_test)'"
      ]
     },
     "execution_count": 53,
     "metadata": {},
     "output_type": "execute_result"
    }
   ],
   "source": [
    "'''from sklearn import model_selection\n",
    "# random forest model creation\n",
    "rfc = RandomForestClassifier()\n",
    "rfc.fit(X_train,y_train)\n",
    "# predictions\n",
    "rfc_predict = rfc.predict(X_test)'''"
   ]
  },
  {
   "cell_type": "code",
   "execution_count": 54,
   "id": "f1c8b6d4",
   "metadata": {},
   "outputs": [
    {
     "data": {
      "text/plain": [
       "\"#print(confusion_matrix(y_test, rfc_predict))\\nprint('\\n')\\nprint(classification_report(y_test, rfc_predict))\""
      ]
     },
     "execution_count": 54,
     "metadata": {},
     "output_type": "execute_result"
    }
   ],
   "source": [
    "'''#print(confusion_matrix(y_test, rfc_predict))\n",
    "print('\\n')\n",
    "print(classification_report(y_test, rfc_predict))'''"
   ]
  },
  {
   "cell_type": "markdown",
   "id": "7dce5af5",
   "metadata": {},
   "source": [
    "### Gradient Boost  (Removing NaNs)"
   ]
  },
  {
   "cell_type": "code",
   "execution_count": 55,
   "id": "e53d8720",
   "metadata": {},
   "outputs": [
    {
     "data": {
      "text/plain": [
       "{'ccp_alpha': 0.0,\n",
       " 'criterion': 'friedman_mse',\n",
       " 'init': None,\n",
       " 'learning_rate': 0.1,\n",
       " 'loss': 'deviance',\n",
       " 'max_depth': 3,\n",
       " 'max_features': None,\n",
       " 'max_leaf_nodes': None,\n",
       " 'min_impurity_decrease': 0.0,\n",
       " 'min_impurity_split': None,\n",
       " 'min_samples_leaf': 1,\n",
       " 'min_samples_split': 2,\n",
       " 'min_weight_fraction_leaf': 0.0,\n",
       " 'n_estimators': 100,\n",
       " 'n_iter_no_change': None,\n",
       " 'random_state': None,\n",
       " 'subsample': 1.0,\n",
       " 'tol': 0.0001,\n",
       " 'validation_fraction': 0.1,\n",
       " 'verbose': 0,\n",
       " 'warm_start': False}"
      ]
     },
     "execution_count": 55,
     "metadata": {},
     "output_type": "execute_result"
    }
   ],
   "source": [
    "gradient_booster = GradientBoostingClassifier(learning_rate=0.1)\n",
    "gradient_booster.get_params()"
   ]
  },
  {
   "cell_type": "code",
   "execution_count": 56,
   "id": "592a11d6",
   "metadata": {},
   "outputs": [],
   "source": [
    "# gradient booster model creation\n",
    "gbc = GradientBoostingClassifier()\n",
    "gbc.fit(X_train,y_train)\n",
    "# predictions\n",
    "gbc_predict = gbc.predict(X_test)"
   ]
  },
  {
   "cell_type": "code",
   "execution_count": 57,
   "id": "0547f517",
   "metadata": {},
   "outputs": [
    {
     "name": "stdout",
     "output_type": "stream",
     "text": [
      "[[24258     1  4076]\n",
      " [    0     1     8]\n",
      " [  956     4 36696]]\n",
      "\n",
      "\n",
      "              precision    recall  f1-score   support\n",
      "\n",
      "           0       0.96      0.86      0.91     28335\n",
      "           1       0.17      0.11      0.13         9\n",
      "           2       0.90      0.97      0.94     37656\n",
      "\n",
      "    accuracy                           0.92     66000\n",
      "   macro avg       0.68      0.65      0.66     66000\n",
      "weighted avg       0.93      0.92      0.92     66000\n",
      "\n"
     ]
    }
   ],
   "source": [
    "print(confusion_matrix(y_test, gbc_predict))\n",
    "print('\\n')\n",
    "print(classification_report(y_test, gbc_predict))"
   ]
  },
  {
   "cell_type": "markdown",
   "id": "6ae73dfc",
   "metadata": {},
   "source": [
    "## Imputation using MICE"
   ]
  },
  {
   "cell_type": "markdown",
   "id": "14aff658",
   "metadata": {},
   "source": [
    "### Importing IterativeImputer"
   ]
  },
  {
   "cell_type": "code",
   "execution_count": 58,
   "id": "248cc831",
   "metadata": {},
   "outputs": [],
   "source": [
    "# importing the IterativeImputer\n",
    "from fancyimpute import IterativeImputer as MICE"
   ]
  },
  {
   "cell_type": "code",
   "execution_count": 59,
   "id": "212d6134",
   "metadata": {},
   "outputs": [
    {
     "data": {
      "text/html": [
       "<div>\n",
       "<style scoped>\n",
       "    .dataframe tbody tr th:only-of-type {\n",
       "        vertical-align: middle;\n",
       "    }\n",
       "\n",
       "    .dataframe tbody tr th {\n",
       "        vertical-align: top;\n",
       "    }\n",
       "\n",
       "    .dataframe thead th {\n",
       "        text-align: right;\n",
       "    }\n",
       "</style>\n",
       "<table border=\"1\" class=\"dataframe\">\n",
       "  <thead>\n",
       "    <tr style=\"text-align: right;\">\n",
       "      <th></th>\n",
       "      <th>GENDER</th>\n",
       "      <th>HOME_LANGUAGE</th>\n",
       "      <th>ENROL_STATUS</th>\n",
       "      <th>ENROL_TYPE</th>\n",
       "      <th>QUALIFICATION_ID</th>\n",
       "      <th>QUALIFICATION_TYPE</th>\n",
       "      <th>STUDENT_AGE</th>\n",
       "      <th>NQFL</th>\n",
       "    </tr>\n",
       "  </thead>\n",
       "  <tbody>\n",
       "    <tr>\n",
       "      <th>0</th>\n",
       "      <td>0</td>\n",
       "      <td>9</td>\n",
       "      <td>1</td>\n",
       "      <td>2</td>\n",
       "      <td>332</td>\n",
       "      <td>4.0</td>\n",
       "      <td>38.0</td>\n",
       "      <td>2.0</td>\n",
       "    </tr>\n",
       "    <tr>\n",
       "      <th>1</th>\n",
       "      <td>0</td>\n",
       "      <td>1</td>\n",
       "      <td>0</td>\n",
       "      <td>0</td>\n",
       "      <td>6394</td>\n",
       "      <td>6.0</td>\n",
       "      <td>45.0</td>\n",
       "      <td>0.0</td>\n",
       "    </tr>\n",
       "    <tr>\n",
       "      <th>2</th>\n",
       "      <td>1</td>\n",
       "      <td>13</td>\n",
       "      <td>0</td>\n",
       "      <td>2</td>\n",
       "      <td>3082</td>\n",
       "      <td>4.0</td>\n",
       "      <td>44.0</td>\n",
       "      <td>2.0</td>\n",
       "    </tr>\n",
       "    <tr>\n",
       "      <th>3</th>\n",
       "      <td>0</td>\n",
       "      <td>6</td>\n",
       "      <td>1</td>\n",
       "      <td>2</td>\n",
       "      <td>7203</td>\n",
       "      <td>NaN</td>\n",
       "      <td>38.0</td>\n",
       "      <td>NaN</td>\n",
       "    </tr>\n",
       "    <tr>\n",
       "      <th>4</th>\n",
       "      <td>0</td>\n",
       "      <td>9</td>\n",
       "      <td>1</td>\n",
       "      <td>0</td>\n",
       "      <td>7040</td>\n",
       "      <td>NaN</td>\n",
       "      <td>40.0</td>\n",
       "      <td>NaN</td>\n",
       "    </tr>\n",
       "  </tbody>\n",
       "</table>\n",
       "</div>"
      ],
      "text/plain": [
       "   GENDER  HOME_LANGUAGE  ENROL_STATUS  ENROL_TYPE  QUALIFICATION_ID  \\\n",
       "0       0              9             1           2               332   \n",
       "1       0              1             0           0              6394   \n",
       "2       1             13             0           2              3082   \n",
       "3       0              6             1           2              7203   \n",
       "4       0              9             1           0              7040   \n",
       "\n",
       "   QUALIFICATION_TYPE  STUDENT_AGE  NQFL  \n",
       "0                 4.0         38.0   2.0  \n",
       "1                 6.0         45.0   0.0  \n",
       "2                 4.0         44.0   2.0  \n",
       "3                 NaN         38.0   NaN  \n",
       "4                 NaN         40.0   NaN  "
      ]
     },
     "execution_count": 59,
     "metadata": {},
     "output_type": "execute_result"
    }
   ],
   "source": [
    "New_het1.head(5)"
   ]
  },
  {
   "cell_type": "markdown",
   "id": "5013cd9e",
   "metadata": {},
   "source": [
    "### Instantiating MICE "
   ]
  },
  {
   "cell_type": "code",
   "execution_count": 60,
   "id": "78a85368",
   "metadata": {},
   "outputs": [],
   "source": [
    "m=MICE()"
   ]
  },
  {
   "cell_type": "markdown",
   "id": "cdfd3a79",
   "metadata": {},
   "source": [
    "### Fitting the Model"
   ]
  },
  {
   "cell_type": "code",
   "execution_count": 61,
   "id": "7e3c478a",
   "metadata": {
    "scrolled": false
   },
   "outputs": [],
   "source": [
    "df_MICE=m.fit_transform(New_het)"
   ]
  },
  {
   "cell_type": "code",
   "execution_count": 62,
   "id": "dccc03ac",
   "metadata": {},
   "outputs": [
    {
     "data": {
      "text/plain": [
       "(200000, 8)"
      ]
     },
     "execution_count": 62,
     "metadata": {},
     "output_type": "execute_result"
    }
   ],
   "source": [
    "df_MICE.shape"
   ]
  },
  {
   "cell_type": "markdown",
   "id": "6489b73e",
   "metadata": {},
   "source": [
    "### Coverting Imputed data to dataframe "
   ]
  },
  {
   "cell_type": "code",
   "execution_count": 63,
   "id": "28b339c6",
   "metadata": {},
   "outputs": [],
   "source": [
    "df1=pd.DataFrame(df_MICE)"
   ]
  },
  {
   "cell_type": "markdown",
   "id": "ec06905f",
   "metadata": {},
   "source": [
    "### Declaring Target"
   ]
  },
  {
   "cell_type": "code",
   "execution_count": 64,
   "id": "a274e9ad",
   "metadata": {},
   "outputs": [
    {
     "data": {
      "text/plain": [
       "(200000,)"
      ]
     },
     "execution_count": 64,
     "metadata": {},
     "output_type": "execute_result"
    }
   ],
   "source": [
    "#Declaring target\n",
    "y= df_MICE[:, 3]\n",
    "y.shape"
   ]
  },
  {
   "cell_type": "markdown",
   "id": "f51edd62",
   "metadata": {},
   "source": [
    "### Droping the Independent Variables from the Dataframe"
   ]
  },
  {
   "cell_type": "code",
   "execution_count": 65,
   "id": "1955c576",
   "metadata": {},
   "outputs": [
    {
     "data": {
      "text/html": [
       "<div>\n",
       "<style scoped>\n",
       "    .dataframe tbody tr th:only-of-type {\n",
       "        vertical-align: middle;\n",
       "    }\n",
       "\n",
       "    .dataframe tbody tr th {\n",
       "        vertical-align: top;\n",
       "    }\n",
       "\n",
       "    .dataframe thead th {\n",
       "        text-align: right;\n",
       "    }\n",
       "</style>\n",
       "<table border=\"1\" class=\"dataframe\">\n",
       "  <thead>\n",
       "    <tr style=\"text-align: right;\">\n",
       "      <th></th>\n",
       "      <th>0</th>\n",
       "      <th>1</th>\n",
       "      <th>2</th>\n",
       "      <th>4</th>\n",
       "      <th>5</th>\n",
       "      <th>6</th>\n",
       "      <th>7</th>\n",
       "    </tr>\n",
       "  </thead>\n",
       "  <tbody>\n",
       "    <tr>\n",
       "      <th>0</th>\n",
       "      <td>0.0</td>\n",
       "      <td>9.0</td>\n",
       "      <td>1.0</td>\n",
       "      <td>332.0</td>\n",
       "      <td>4.000000</td>\n",
       "      <td>38.0</td>\n",
       "      <td>2.000000</td>\n",
       "    </tr>\n",
       "    <tr>\n",
       "      <th>1</th>\n",
       "      <td>0.0</td>\n",
       "      <td>1.0</td>\n",
       "      <td>0.0</td>\n",
       "      <td>6394.0</td>\n",
       "      <td>6.000000</td>\n",
       "      <td>45.0</td>\n",
       "      <td>0.000000</td>\n",
       "    </tr>\n",
       "    <tr>\n",
       "      <th>2</th>\n",
       "      <td>1.0</td>\n",
       "      <td>13.0</td>\n",
       "      <td>0.0</td>\n",
       "      <td>3082.0</td>\n",
       "      <td>4.000000</td>\n",
       "      <td>44.0</td>\n",
       "      <td>2.000000</td>\n",
       "    </tr>\n",
       "    <tr>\n",
       "      <th>3</th>\n",
       "      <td>0.0</td>\n",
       "      <td>6.0</td>\n",
       "      <td>1.0</td>\n",
       "      <td>7203.0</td>\n",
       "      <td>6.882071</td>\n",
       "      <td>38.0</td>\n",
       "      <td>1.631806</td>\n",
       "    </tr>\n",
       "    <tr>\n",
       "      <th>4</th>\n",
       "      <td>0.0</td>\n",
       "      <td>9.0</td>\n",
       "      <td>1.0</td>\n",
       "      <td>7040.0</td>\n",
       "      <td>7.040504</td>\n",
       "      <td>40.0</td>\n",
       "      <td>1.091070</td>\n",
       "    </tr>\n",
       "  </tbody>\n",
       "</table>\n",
       "</div>"
      ],
      "text/plain": [
       "     0     1    2       4         5     6         7\n",
       "0  0.0   9.0  1.0   332.0  4.000000  38.0  2.000000\n",
       "1  0.0   1.0  0.0  6394.0  6.000000  45.0  0.000000\n",
       "2  1.0  13.0  0.0  3082.0  4.000000  44.0  2.000000\n",
       "3  0.0   6.0  1.0  7203.0  6.882071  38.0  1.631806\n",
       "4  0.0   9.0  1.0  7040.0  7.040504  40.0  1.091070"
      ]
     },
     "execution_count": 65,
     "metadata": {},
     "output_type": "execute_result"
    }
   ],
   "source": [
    "X = New_het=df1.drop([3], axis=True)\n",
    "X.head()"
   ]
  },
  {
   "cell_type": "code",
   "execution_count": 66,
   "id": "f9a28cc7",
   "metadata": {},
   "outputs": [
    {
     "data": {
      "text/plain": [
       "(200000, 7)"
      ]
     },
     "execution_count": 66,
     "metadata": {},
     "output_type": "execute_result"
    }
   ],
   "source": [
    "X.shape"
   ]
  },
  {
   "cell_type": "markdown",
   "id": "f7524cb7",
   "metadata": {},
   "source": [
    "### Scaling data using MinMax data"
   ]
  },
  {
   "cell_type": "code",
   "execution_count": 67,
   "id": "4bab71a1",
   "metadata": {},
   "outputs": [
    {
     "data": {
      "text/html": [
       "<div>\n",
       "<style scoped>\n",
       "    .dataframe tbody tr th:only-of-type {\n",
       "        vertical-align: middle;\n",
       "    }\n",
       "\n",
       "    .dataframe tbody tr th {\n",
       "        vertical-align: top;\n",
       "    }\n",
       "\n",
       "    .dataframe thead th {\n",
       "        text-align: right;\n",
       "    }\n",
       "</style>\n",
       "<table border=\"1\" class=\"dataframe\">\n",
       "  <thead>\n",
       "    <tr style=\"text-align: right;\">\n",
       "      <th></th>\n",
       "      <th>0</th>\n",
       "      <th>1</th>\n",
       "      <th>2</th>\n",
       "      <th>4</th>\n",
       "      <th>5</th>\n",
       "      <th>6</th>\n",
       "      <th>7</th>\n",
       "    </tr>\n",
       "  </thead>\n",
       "  <tbody>\n",
       "    <tr>\n",
       "      <th>0</th>\n",
       "      <td>0.0</td>\n",
       "      <td>0.692308</td>\n",
       "      <td>1.0</td>\n",
       "      <td>0.026307</td>\n",
       "      <td>0.266667</td>\n",
       "      <td>0.27</td>\n",
       "      <td>0.678134</td>\n",
       "    </tr>\n",
       "    <tr>\n",
       "      <th>1</th>\n",
       "      <td>0.0</td>\n",
       "      <td>0.076923</td>\n",
       "      <td>0.0</td>\n",
       "      <td>0.509566</td>\n",
       "      <td>0.400000</td>\n",
       "      <td>0.34</td>\n",
       "      <td>0.034402</td>\n",
       "    </tr>\n",
       "    <tr>\n",
       "      <th>2</th>\n",
       "      <td>0.5</td>\n",
       "      <td>1.000000</td>\n",
       "      <td>0.0</td>\n",
       "      <td>0.245536</td>\n",
       "      <td>0.266667</td>\n",
       "      <td>0.33</td>\n",
       "      <td>0.678134</td>\n",
       "    </tr>\n",
       "    <tr>\n",
       "      <th>3</th>\n",
       "      <td>0.0</td>\n",
       "      <td>0.461538</td>\n",
       "      <td>1.0</td>\n",
       "      <td>0.574059</td>\n",
       "      <td>0.458805</td>\n",
       "      <td>0.27</td>\n",
       "      <td>0.559625</td>\n",
       "    </tr>\n",
       "    <tr>\n",
       "      <th>4</th>\n",
       "      <td>0.0</td>\n",
       "      <td>0.692308</td>\n",
       "      <td>1.0</td>\n",
       "      <td>0.561065</td>\n",
       "      <td>0.469367</td>\n",
       "      <td>0.29</td>\n",
       "      <td>0.385580</td>\n",
       "    </tr>\n",
       "  </tbody>\n",
       "</table>\n",
       "</div>"
      ],
      "text/plain": [
       "     0         1    2         4         5     6         7\n",
       "0  0.0  0.692308  1.0  0.026307  0.266667  0.27  0.678134\n",
       "1  0.0  0.076923  0.0  0.509566  0.400000  0.34  0.034402\n",
       "2  0.5  1.000000  0.0  0.245536  0.266667  0.33  0.678134\n",
       "3  0.0  0.461538  1.0  0.574059  0.458805  0.27  0.559625\n",
       "4  0.0  0.692308  1.0  0.561065  0.469367  0.29  0.385580"
      ]
     },
     "execution_count": 67,
     "metadata": {},
     "output_type": "execute_result"
    }
   ],
   "source": [
    "from sklearn.preprocessing import MinMaxScaler\n",
    "scaler = MinMaxScaler()\n",
    "X = pd.DataFrame(scaler.fit_transform(X), columns = X.columns)\n",
    "X.head()"
   ]
  },
  {
   "cell_type": "markdown",
   "id": "84e9d51d",
   "metadata": {},
   "source": [
    "### Split data in to traina and test"
   ]
  },
  {
   "cell_type": "code",
   "execution_count": 68,
   "id": "40bb7ea1",
   "metadata": {},
   "outputs": [
    {
     "name": "stdout",
     "output_type": "stream",
     "text": [
      "Train (134000, 7) (134000,)\n",
      "Test (66000, 7) (66000,)\n"
     ]
    }
   ],
   "source": [
    "# split into train and test sets\n",
    "X_train, X_test, y_train, y_test = train_test_split(X, y, test_size=0.33, random_state=1)\n",
    "\n",
    "# summarize\n",
    "print('Train', X_train.shape, y_train.shape)\n",
    "print('Test', X_test.shape, y_test.shape)"
   ]
  },
  {
   "cell_type": "markdown",
   "id": "d2aba98e",
   "metadata": {},
   "source": [
    "### Using Chi square to Select best Features"
   ]
  },
  {
   "cell_type": "code",
   "execution_count": 69,
   "id": "4110aab3",
   "metadata": {},
   "outputs": [],
   "source": [
    "fs = SelectKBest(score_func=chi2, k='all')\n",
    "fs.fit(X_train, y_train)\n",
    "X_train_fs = fs.transform(X_train)\n",
    "X_test_fs = fs.transform(X_test)"
   ]
  },
  {
   "cell_type": "code",
   "execution_count": 70,
   "id": "c892cc55",
   "metadata": {},
   "outputs": [
    {
     "name": "stdout",
     "output_type": "stream",
     "text": [
      "Feature 0: 245.243428\n",
      "Feature 1: 91.964028\n",
      "Feature 2: 4693.354551\n",
      "Feature 3: 1794.520514\n",
      "Feature 4: 3.863023\n",
      "Feature 5: 997.148405\n",
      "Feature 6: 1412.733179\n"
     ]
    },
    {
     "data": {
      "image/png": "[encoded data removed]",
      "text/plain": [
       "<Figure size 432x288 with 1 Axes>"
      ]
     },
     "metadata": {},
     "output_type": "display_data"
    }
   ],
   "source": [
    "# scores for the featuresX_test\n",
    "for i in range(len(fs.scores_)):\n",
    "\tprint('Feature %d: %f' % (i, fs.scores_[i]))\n",
    "# plot the scores\n",
    "pyplot.bar([i for i in range(len(fs.scores_))], fs.scores_)\n",
    "pyplot.show()"
   ]
  },
  {
   "cell_type": "markdown",
   "id": "0a19325b",
   "metadata": {},
   "source": [
    "### MICE : Logistic Regression"
   ]
  },
  {
   "cell_type": "code",
   "execution_count": 71,
   "id": "132c5f1d",
   "metadata": {
    "scrolled": false
   },
   "outputs": [
    {
     "name": "stdout",
     "output_type": "stream",
     "text": [
      "Accuracy: 78.74\n"
     ]
    },
    {
     "name": "stderr",
     "output_type": "stream",
     "text": [
      "/home/phillemon/anaconda3/lib/python3.8/site-packages/sklearn/linear_model/_logistic.py:763: ConvergenceWarning: lbfgs failed to converge (status=1):\n",
      "STOP: TOTAL NO. of ITERATIONS REACHED LIMIT.\n",
      "\n",
      "Increase the number of iterations (max_iter) or scale the data as shown in:\n",
      "    https://scikit-learn.org/stable/modules/preprocessing.html\n",
      "Please also refer to the documentation for alternative solver options:\n",
      "    https://scikit-learn.org/stable/modules/linear_model.html#logistic-regression\n",
      "  n_iter_i = _check_optimize_result(\n"
     ]
    }
   ],
   "source": [
    "## fit the model\n",
    "model = LogisticRegression(multi_class = 'multinomial', solver='lbfgs')\n",
    "model.fit(X_train, y_train)\n",
    "\n",
    "## evaluate the model\n",
    "yhat = model.predict(X_test)\n",
    "# evaluate predictions\n",
    "accuracy = accuracy_score(y_test, yhat)\n",
    "print('Accuracy: %.2f' % (accuracy*100))"
   ]
  },
  {
   "cell_type": "markdown",
   "id": "9dd3ee6e",
   "metadata": {},
   "source": [
    "### MICE: Decision Tree Classifier\n",
    "\n"
   ]
  },
  {
   "cell_type": "code",
   "execution_count": 72,
   "id": "486eaad6",
   "metadata": {},
   "outputs": [],
   "source": [
    "dtree_model = DecisionTreeClassifier(max_depth = 2).fit(X_train, y_train)\n",
    "dtree_predictions = dtree_model.predict(X_test)"
   ]
  },
  {
   "cell_type": "code",
   "execution_count": 73,
   "id": "912f6a56",
   "metadata": {},
   "outputs": [],
   "source": [
    "# creating a confusion matrix\n",
    "cm = confusion_matrix(y_test, dtree_predictions)"
   ]
  },
  {
   "cell_type": "code",
   "execution_count": 74,
   "id": "7fd9ad72",
   "metadata": {},
   "outputs": [
    {
     "name": "stdout",
     "output_type": "stream",
     "text": [
      "              precision    recall  f1-score   support\n",
      "\n",
      "         0.0       0.99      0.99      0.99     28335\n",
      "         1.0       0.00      0.00      0.00         9\n",
      "         2.0       0.99      0.99      0.99     37656\n",
      "\n",
      "    accuracy                           0.99     66000\n",
      "   macro avg       0.66      0.66      0.66     66000\n",
      "weighted avg       0.99      0.99      0.99     66000\n",
      "\n"
     ]
    }
   ],
   "source": [
    "from sklearn.tree import DecisionTreeClassifier\n",
    "classifier = DecisionTreeClassifier()\n",
    "classifier.fit(X_train, y_train)\n",
    "\n",
    "y_pred = classifier.predict(X_test)\n",
    "\n",
    "from sklearn.metrics import classification_report, confusion_matrix\n",
    "#print(confusion_matrix(y_test, y_pred))\n",
    "print(classification_report(y_test, y_pred))"
   ]
  },
  {
   "cell_type": "markdown",
   "id": "9d0f1d5d",
   "metadata": {},
   "source": [
    "###  MICE : Gradient Boosting\n",
    "\n"
   ]
  },
  {
   "cell_type": "code",
   "execution_count": 75,
   "id": "d52f6b39",
   "metadata": {
    "scrolled": true
   },
   "outputs": [
    {
     "data": {
      "text/plain": [
       "{'ccp_alpha': 0.0,\n",
       " 'criterion': 'friedman_mse',\n",
       " 'init': None,\n",
       " 'learning_rate': 0.1,\n",
       " 'loss': 'deviance',\n",
       " 'max_depth': 3,\n",
       " 'max_features': None,\n",
       " 'max_leaf_nodes': None,\n",
       " 'min_impurity_decrease': 0.0,\n",
       " 'min_impurity_split': None,\n",
       " 'min_samples_leaf': 1,\n",
       " 'min_samples_split': 2,\n",
       " 'min_weight_fraction_leaf': 0.0,\n",
       " 'n_estimators': 100,\n",
       " 'n_iter_no_change': None,\n",
       " 'random_state': None,\n",
       " 'subsample': 1.0,\n",
       " 'tol': 0.0001,\n",
       " 'validation_fraction': 0.1,\n",
       " 'verbose': 0,\n",
       " 'warm_start': False}"
      ]
     },
     "execution_count": 75,
     "metadata": {},
     "output_type": "execute_result"
    }
   ],
   "source": [
    "gradient_booster = GradientBoostingClassifier(learning_rate=0.1)\n",
    "gradient_booster.get_params()"
   ]
  },
  {
   "cell_type": "code",
   "execution_count": 76,
   "id": "d8b5c7f2",
   "metadata": {},
   "outputs": [],
   "source": [
    "# gradient booster model creation\n",
    "gbc = GradientBoostingClassifier()\n",
    "gbc.fit(X_train,y_train)\n",
    "# predictions\n",
    "gbc_predict = gbc.predict(X_test)"
   ]
  },
  {
   "cell_type": "code",
   "execution_count": 77,
   "id": "f0fa018b",
   "metadata": {},
   "outputs": [
    {
     "name": "stdout",
     "output_type": "stream",
     "text": [
      "[[27270    39  1026]\n",
      " [    1     4     4]\n",
      " [  934    68 36654]]\n",
      "\n",
      "\n",
      "              precision    recall  f1-score   support\n",
      "\n",
      "         0.0       0.97      0.96      0.96     28335\n",
      "         1.0       0.04      0.44      0.07         9\n",
      "         2.0       0.97      0.97      0.97     37656\n",
      "\n",
      "    accuracy                           0.97     66000\n",
      "   macro avg       0.66      0.79      0.67     66000\n",
      "weighted avg       0.97      0.97      0.97     66000\n",
      "\n"
     ]
    }
   ],
   "source": [
    "print(confusion_matrix(y_test, gbc_predict))\n",
    "print('\\n')\n",
    "print(classification_report(y_test, gbc_predict))"
   ]
  },
  {
   "cell_type": "markdown",
   "id": "23e5810b",
   "metadata": {},
   "source": [
    "## KNN Imputation"
   ]
  },
  {
   "cell_type": "markdown",
   "id": "79f05eb7",
   "metadata": {},
   "source": [
    "### Imparting KNN from fancy impute"
   ]
  },
  {
   "cell_type": "code",
   "execution_count": 78,
   "id": "79ca346c",
   "metadata": {},
   "outputs": [],
   "source": [
    "from fancyimpute import KNN"
   ]
  },
  {
   "cell_type": "code",
   "execution_count": 79,
   "id": "e19e3e01",
   "metadata": {},
   "outputs": [
    {
     "data": {
      "text/html": [
       "<div>\n",
       "<style scoped>\n",
       "    .dataframe tbody tr th:only-of-type {\n",
       "        vertical-align: middle;\n",
       "    }\n",
       "\n",
       "    .dataframe tbody tr th {\n",
       "        vertical-align: top;\n",
       "    }\n",
       "\n",
       "    .dataframe thead th {\n",
       "        text-align: right;\n",
       "    }\n",
       "</style>\n",
       "<table border=\"1\" class=\"dataframe\">\n",
       "  <thead>\n",
       "    <tr style=\"text-align: right;\">\n",
       "      <th></th>\n",
       "      <th>GENDER</th>\n",
       "      <th>HOME_LANGUAGE</th>\n",
       "      <th>ENROL_STATUS</th>\n",
       "      <th>ENROL_TYPE</th>\n",
       "      <th>QUALIFICATION_ID</th>\n",
       "      <th>QUALIFICATION_TYPE</th>\n",
       "      <th>STUDENT_AGE</th>\n",
       "      <th>NQFL</th>\n",
       "    </tr>\n",
       "  </thead>\n",
       "  <tbody>\n",
       "    <tr>\n",
       "      <th>0</th>\n",
       "      <td>0</td>\n",
       "      <td>9</td>\n",
       "      <td>1</td>\n",
       "      <td>2</td>\n",
       "      <td>332</td>\n",
       "      <td>4.0</td>\n",
       "      <td>38.0</td>\n",
       "      <td>2.0</td>\n",
       "    </tr>\n",
       "    <tr>\n",
       "      <th>1</th>\n",
       "      <td>0</td>\n",
       "      <td>1</td>\n",
       "      <td>0</td>\n",
       "      <td>0</td>\n",
       "      <td>6394</td>\n",
       "      <td>6.0</td>\n",
       "      <td>45.0</td>\n",
       "      <td>0.0</td>\n",
       "    </tr>\n",
       "    <tr>\n",
       "      <th>2</th>\n",
       "      <td>1</td>\n",
       "      <td>13</td>\n",
       "      <td>0</td>\n",
       "      <td>2</td>\n",
       "      <td>3082</td>\n",
       "      <td>4.0</td>\n",
       "      <td>44.0</td>\n",
       "      <td>2.0</td>\n",
       "    </tr>\n",
       "    <tr>\n",
       "      <th>3</th>\n",
       "      <td>0</td>\n",
       "      <td>6</td>\n",
       "      <td>1</td>\n",
       "      <td>2</td>\n",
       "      <td>7203</td>\n",
       "      <td>NaN</td>\n",
       "      <td>38.0</td>\n",
       "      <td>NaN</td>\n",
       "    </tr>\n",
       "    <tr>\n",
       "      <th>4</th>\n",
       "      <td>0</td>\n",
       "      <td>9</td>\n",
       "      <td>1</td>\n",
       "      <td>0</td>\n",
       "      <td>7040</td>\n",
       "      <td>NaN</td>\n",
       "      <td>40.0</td>\n",
       "      <td>NaN</td>\n",
       "    </tr>\n",
       "  </tbody>\n",
       "</table>\n",
       "</div>"
      ],
      "text/plain": [
       "   GENDER  HOME_LANGUAGE  ENROL_STATUS  ENROL_TYPE  QUALIFICATION_ID  \\\n",
       "0       0              9             1           2               332   \n",
       "1       0              1             0           0              6394   \n",
       "2       1             13             0           2              3082   \n",
       "3       0              6             1           2              7203   \n",
       "4       0              9             1           0              7040   \n",
       "\n",
       "   QUALIFICATION_TYPE  STUDENT_AGE  NQFL  \n",
       "0                 4.0         38.0   2.0  \n",
       "1                 6.0         45.0   0.0  \n",
       "2                 4.0         44.0   2.0  \n",
       "3                 NaN         38.0   NaN  \n",
       "4                 NaN         40.0   NaN  "
      ]
     },
     "execution_count": 79,
     "metadata": {},
     "output_type": "execute_result"
    }
   ],
   "source": [
    "New_het1.head()"
   ]
  },
  {
   "cell_type": "markdown",
   "id": "0b6ac62a",
   "metadata": {},
   "source": [
    "### Selecting the first 15000 due to memory isues"
   ]
  },
  {
   "cell_type": "code",
   "execution_count": 80,
   "id": "d1f936b6",
   "metadata": {},
   "outputs": [],
   "source": [
    "New_het=New_het1.head(15000)"
   ]
  },
  {
   "cell_type": "code",
   "execution_count": 81,
   "id": "31ce1768",
   "metadata": {},
   "outputs": [
    {
     "name": "stdout",
     "output_type": "stream",
     "text": [
      "<class 'pandas.core.frame.DataFrame'>\n",
      "RangeIndex: 15000 entries, 0 to 14999\n",
      "Data columns (total 8 columns):\n",
      " #   Column              Non-Null Count  Dtype  \n",
      "---  ------              --------------  -----  \n",
      " 0   GENDER              15000 non-null  int64  \n",
      " 1   HOME_LANGUAGE       15000 non-null  int64  \n",
      " 2   ENROL_STATUS        15000 non-null  int64  \n",
      " 3   ENROL_TYPE          15000 non-null  int64  \n",
      " 4   QUALIFICATION_ID    15000 non-null  int64  \n",
      " 5   QUALIFICATION_TYPE  14183 non-null  float64\n",
      " 6   STUDENT_AGE         15000 non-null  float64\n",
      " 7   NQFL                8825 non-null   float64\n",
      "dtypes: float64(3), int64(5)\n",
      "memory usage: 937.6 KB\n"
     ]
    }
   ],
   "source": [
    "New_het.info(memory_usage='deep')"
   ]
  },
  {
   "cell_type": "markdown",
   "id": "c24a89b6",
   "metadata": {},
   "source": [
    "### instantiate KNN"
   ]
  },
  {
   "cell_type": "code",
   "execution_count": 82,
   "id": "40ad30ab",
   "metadata": {},
   "outputs": [],
   "source": [
    "imputer = KNN()"
   ]
  },
  {
   "cell_type": "markdown",
   "id": "0641392c",
   "metadata": {},
   "source": [
    "### impute data and convert "
   ]
  },
  {
   "cell_type": "code",
   "execution_count": 83,
   "id": "4b2b7411",
   "metadata": {
    "collapsed": true
   },
   "outputs": [
    {
     "name": "stdout",
     "output_type": "stream",
     "text": [
      "Imputing row 1/15000 with 0 missing, elapsed time: 30.659\n",
      "Imputing row 101/15000 with 0 missing, elapsed time: 30.660\n",
      "Imputing row 201/15000 with 0 missing, elapsed time: 30.662\n",
      "Imputing row 301/15000 with 0 missing, elapsed time: 30.664\n",
      "Imputing row 401/15000 with 0 missing, elapsed time: 30.665\n",
      "Imputing row 501/15000 with 0 missing, elapsed time: 30.667\n",
      "Imputing row 601/15000 with 0 missing, elapsed time: 30.669\n",
      "Imputing row 701/15000 with 0 missing, elapsed time: 30.671\n",
      "Imputing row 801/15000 with 0 missing, elapsed time: 30.673\n",
      "Imputing row 901/15000 with 0 missing, elapsed time: 30.674\n",
      "Imputing row 1001/15000 with 0 missing, elapsed time: 30.676\n",
      "Imputing row 1101/15000 with 0 missing, elapsed time: 30.679\n",
      "Imputing row 1201/15000 with 0 missing, elapsed time: 30.680\n",
      "Imputing row 1301/15000 with 2 missing, elapsed time: 30.682\n",
      "Imputing row 1401/15000 with 2 missing, elapsed time: 30.684\n",
      "Imputing row 1501/15000 with 0 missing, elapsed time: 30.686\n",
      "Imputing row 1601/15000 with 1 missing, elapsed time: 30.688\n",
      "Imputing row 1701/15000 with 0 missing, elapsed time: 30.690\n",
      "Imputing row 1801/15000 with 0 missing, elapsed time: 30.692\n",
      "Imputing row 1901/15000 with 0 missing, elapsed time: 30.695\n",
      "Imputing row 2001/15000 with 0 missing, elapsed time: 30.697\n",
      "Imputing row 2101/15000 with 0 missing, elapsed time: 30.699\n",
      "Imputing row 2201/15000 with 1 missing, elapsed time: 30.702\n",
      "Imputing row 2301/15000 with 1 missing, elapsed time: 30.704\n",
      "Imputing row 2401/15000 with 0 missing, elapsed time: 30.706\n",
      "Imputing row 2501/15000 with 0 missing, elapsed time: 30.708\n",
      "Imputing row 2601/15000 with 0 missing, elapsed time: 30.710\n",
      "Imputing row 2701/15000 with 1 missing, elapsed time: 30.713\n",
      "Imputing row 2801/15000 with 0 missing, elapsed time: 30.716\n",
      "Imputing row 2901/15000 with 1 missing, elapsed time: 30.718\n",
      "Imputing row 3001/15000 with 0 missing, elapsed time: 30.720\n",
      "Imputing row 3101/15000 with 0 missing, elapsed time: 30.722\n",
      "Imputing row 3201/15000 with 0 missing, elapsed time: 30.725\n",
      "Imputing row 3301/15000 with 0 missing, elapsed time: 30.729\n",
      "Imputing row 3401/15000 with 1 missing, elapsed time: 30.731\n",
      "Imputing row 3501/15000 with 1 missing, elapsed time: 30.734\n",
      "Imputing row 3601/15000 with 1 missing, elapsed time: 30.736\n",
      "Imputing row 3701/15000 with 1 missing, elapsed time: 30.739\n",
      "Imputing row 3801/15000 with 0 missing, elapsed time: 30.741\n",
      "Imputing row 3901/15000 with 0 missing, elapsed time: 30.744\n",
      "Imputing row 4001/15000 with 0 missing, elapsed time: 30.747\n",
      "Imputing row 4101/15000 with 1 missing, elapsed time: 30.749\n",
      "Imputing row 4201/15000 with 1 missing, elapsed time: 30.752\n",
      "Imputing row 4301/15000 with 1 missing, elapsed time: 30.754\n",
      "Imputing row 4401/15000 with 0 missing, elapsed time: 30.757\n",
      "Imputing row 4501/15000 with 0 missing, elapsed time: 30.759\n",
      "Imputing row 4601/15000 with 0 missing, elapsed time: 30.762\n",
      "Imputing row 4701/15000 with 0 missing, elapsed time: 30.764\n",
      "Imputing row 4801/15000 with 1 missing, elapsed time: 30.766\n",
      "Imputing row 4901/15000 with 0 missing, elapsed time: 30.769\n",
      "Imputing row 5001/15000 with 1 missing, elapsed time: 30.771\n",
      "Imputing row 5101/15000 with 0 missing, elapsed time: 30.773\n",
      "Imputing row 5201/15000 with 0 missing, elapsed time: 30.776\n",
      "Imputing row 5301/15000 with 0 missing, elapsed time: 30.778\n",
      "Imputing row 5401/15000 with 0 missing, elapsed time: 30.781\n",
      "Imputing row 5501/15000 with 0 missing, elapsed time: 30.783\n",
      "Imputing row 5601/15000 with 0 missing, elapsed time: 30.785\n",
      "Imputing row 5701/15000 with 0 missing, elapsed time: 30.788\n",
      "Imputing row 5801/15000 with 0 missing, elapsed time: 30.791\n",
      "Imputing row 5901/15000 with 0 missing, elapsed time: 30.793\n",
      "Imputing row 6001/15000 with 0 missing, elapsed time: 30.795\n",
      "Imputing row 6101/15000 with 0 missing, elapsed time: 30.798\n",
      "Imputing row 6201/15000 with 0 missing, elapsed time: 30.801\n",
      "Imputing row 6301/15000 with 1 missing, elapsed time: 30.804\n",
      "Imputing row 6401/15000 with 1 missing, elapsed time: 30.807\n",
      "Imputing row 6501/15000 with 1 missing, elapsed time: 30.810\n",
      "Imputing row 6601/15000 with 2 missing, elapsed time: 30.813\n",
      "Imputing row 6701/15000 with 0 missing, elapsed time: 30.816\n",
      "Imputing row 6801/15000 with 0 missing, elapsed time: 30.819\n",
      "Imputing row 6901/15000 with 0 missing, elapsed time: 30.822\n",
      "Imputing row 7001/15000 with 0 missing, elapsed time: 30.824\n",
      "Imputing row 7101/15000 with 0 missing, elapsed time: 30.827\n",
      "Imputing row 7201/15000 with 0 missing, elapsed time: 30.830\n",
      "Imputing row 7301/15000 with 1 missing, elapsed time: 30.832\n",
      "Imputing row 7401/15000 with 1 missing, elapsed time: 30.835\n",
      "Imputing row 7501/15000 with 1 missing, elapsed time: 30.838\n",
      "Imputing row 7601/15000 with 0 missing, elapsed time: 30.842\n",
      "Imputing row 7701/15000 with 0 missing, elapsed time: 30.844\n",
      "Imputing row 7801/15000 with 1 missing, elapsed time: 30.847\n",
      "Imputing row 7901/15000 with 1 missing, elapsed time: 30.850\n",
      "Imputing row 8001/15000 with 0 missing, elapsed time: 30.852\n",
      "Imputing row 8101/15000 with 2 missing, elapsed time: 30.855\n",
      "Imputing row 8201/15000 with 0 missing, elapsed time: 30.857\n",
      "Imputing row 8301/15000 with 1 missing, elapsed time: 30.860\n",
      "Imputing row 8401/15000 with 2 missing, elapsed time: 30.863\n",
      "Imputing row 8501/15000 with 0 missing, elapsed time: 30.866\n",
      "Imputing row 8601/15000 with 0 missing, elapsed time: 30.868\n",
      "Imputing row 8701/15000 with 0 missing, elapsed time: 30.870\n",
      "Imputing row 8801/15000 with 0 missing, elapsed time: 30.873\n",
      "Imputing row 8901/15000 with 1 missing, elapsed time: 30.876\n",
      "Imputing row 9001/15000 with 1 missing, elapsed time: 30.879\n",
      "Imputing row 9101/15000 with 0 missing, elapsed time: 30.882\n",
      "Imputing row 9201/15000 with 1 missing, elapsed time: 30.884\n",
      "Imputing row 9301/15000 with 1 missing, elapsed time: 30.887\n",
      "Imputing row 9401/15000 with 1 missing, elapsed time: 30.891\n",
      "Imputing row 9501/15000 with 0 missing, elapsed time: 30.894\n",
      "Imputing row 9601/15000 with 0 missing, elapsed time: 30.898\n",
      "Imputing row 9701/15000 with 0 missing, elapsed time: 30.901\n",
      "Imputing row 9801/15000 with 0 missing, elapsed time: 30.904\n",
      "Imputing row 9901/15000 with 1 missing, elapsed time: 30.907\n",
      "Imputing row 10001/15000 with 0 missing, elapsed time: 30.909\n",
      "Imputing row 10101/15000 with 0 missing, elapsed time: 30.912\n",
      "Imputing row 10201/15000 with 1 missing, elapsed time: 30.915\n",
      "Imputing row 10301/15000 with 1 missing, elapsed time: 30.918\n",
      "Imputing row 10401/15000 with 0 missing, elapsed time: 30.921\n",
      "Imputing row 10501/15000 with 1 missing, elapsed time: 30.924\n",
      "Imputing row 10601/15000 with 1 missing, elapsed time: 30.927\n",
      "Imputing row 10701/15000 with 0 missing, elapsed time: 30.930\n",
      "Imputing row 10801/15000 with 0 missing, elapsed time: 30.933\n",
      "Imputing row 10901/15000 with 1 missing, elapsed time: 30.936\n",
      "Imputing row 11001/15000 with 0 missing, elapsed time: 30.939\n",
      "Imputing row 11101/15000 with 0 missing, elapsed time: 30.942\n",
      "Imputing row 11201/15000 with 0 missing, elapsed time: 30.945\n",
      "Imputing row 11301/15000 with 0 missing, elapsed time: 30.948\n",
      "Imputing row 11401/15000 with 0 missing, elapsed time: 30.950\n",
      "Imputing row 11501/15000 with 0 missing, elapsed time: 30.953\n",
      "Imputing row 11601/15000 with 1 missing, elapsed time: 30.955\n",
      "Imputing row 11701/15000 with 0 missing, elapsed time: 30.958\n",
      "Imputing row 11801/15000 with 2 missing, elapsed time: 30.961\n",
      "Imputing row 11901/15000 with 1 missing, elapsed time: 30.964\n",
      "Imputing row 12001/15000 with 0 missing, elapsed time: 30.967\n",
      "Imputing row 12101/15000 with 0 missing, elapsed time: 30.970\n",
      "Imputing row 12201/15000 with 1 missing, elapsed time: 30.972\n",
      "Imputing row 12301/15000 with 0 missing, elapsed time: 30.975\n",
      "Imputing row 12401/15000 with 0 missing, elapsed time: 30.978\n",
      "Imputing row 12501/15000 with 1 missing, elapsed time: 30.981\n",
      "Imputing row 12601/15000 with 1 missing, elapsed time: 30.984\n",
      "Imputing row 12701/15000 with 0 missing, elapsed time: 30.987\n",
      "Imputing row 12801/15000 with 2 missing, elapsed time: 30.989\n",
      "Imputing row 12901/15000 with 1 missing, elapsed time: 30.992\n",
      "Imputing row 13001/15000 with 0 missing, elapsed time: 30.994\n",
      "Imputing row 13101/15000 with 1 missing, elapsed time: 30.998\n",
      "Imputing row 13201/15000 with 0 missing, elapsed time: 31.000\n",
      "Imputing row 13301/15000 with 0 missing, elapsed time: 31.003\n",
      "Imputing row 13401/15000 with 0 missing, elapsed time: 31.006\n",
      "Imputing row 13501/15000 with 0 missing, elapsed time: 31.009\n",
      "Imputing row 13601/15000 with 0 missing, elapsed time: 31.012\n",
      "Imputing row 13701/15000 with 0 missing, elapsed time: 31.015\n",
      "Imputing row 13801/15000 with 0 missing, elapsed time: 31.018\n",
      "Imputing row 13901/15000 with 0 missing, elapsed time: 31.021\n",
      "Imputing row 14001/15000 with 1 missing, elapsed time: 31.023\n",
      "Imputing row 14101/15000 with 0 missing, elapsed time: 31.026\n",
      "Imputing row 14201/15000 with 0 missing, elapsed time: 31.029\n",
      "Imputing row 14301/15000 with 0 missing, elapsed time: 31.032\n",
      "Imputing row 14401/15000 with 0 missing, elapsed time: 31.035\n",
      "Imputing row 14501/15000 with 0 missing, elapsed time: 31.039\n",
      "Imputing row 14601/15000 with 0 missing, elapsed time: 31.041\n",
      "Imputing row 14701/15000 with 0 missing, elapsed time: 31.044\n",
      "Imputing row 14801/15000 with 0 missing, elapsed time: 31.047\n",
      "Imputing row 14901/15000 with 1 missing, elapsed time: 31.050\n"
     ]
    }
   ],
   "source": [
    "encode_data = pd.DataFrame(np.round(imputer.fit_transform(New_het)),columns = New_het.columns)"
   ]
  },
  {
   "cell_type": "code",
   "execution_count": 84,
   "id": "5761933a",
   "metadata": {},
   "outputs": [
    {
     "data": {
      "text/html": [
       "<div>\n",
       "<style scoped>\n",
       "    .dataframe tbody tr th:only-of-type {\n",
       "        vertical-align: middle;\n",
       "    }\n",
       "\n",
       "    .dataframe tbody tr th {\n",
       "        vertical-align: top;\n",
       "    }\n",
       "\n",
       "    .dataframe thead th {\n",
       "        text-align: right;\n",
       "    }\n",
       "</style>\n",
       "<table border=\"1\" class=\"dataframe\">\n",
       "  <thead>\n",
       "    <tr style=\"text-align: right;\">\n",
       "      <th></th>\n",
       "      <th>GENDER</th>\n",
       "      <th>HOME_LANGUAGE</th>\n",
       "      <th>ENROL_STATUS</th>\n",
       "      <th>ENROL_TYPE</th>\n",
       "      <th>QUALIFICATION_ID</th>\n",
       "      <th>QUALIFICATION_TYPE</th>\n",
       "      <th>STUDENT_AGE</th>\n",
       "      <th>NQFL</th>\n",
       "    </tr>\n",
       "  </thead>\n",
       "  <tbody>\n",
       "    <tr>\n",
       "      <th>0</th>\n",
       "      <td>0.0</td>\n",
       "      <td>9.0</td>\n",
       "      <td>1.0</td>\n",
       "      <td>2.0</td>\n",
       "      <td>332.0</td>\n",
       "      <td>4.0</td>\n",
       "      <td>38.0</td>\n",
       "      <td>2.0</td>\n",
       "    </tr>\n",
       "    <tr>\n",
       "      <th>1</th>\n",
       "      <td>0.0</td>\n",
       "      <td>1.0</td>\n",
       "      <td>0.0</td>\n",
       "      <td>0.0</td>\n",
       "      <td>6394.0</td>\n",
       "      <td>6.0</td>\n",
       "      <td>45.0</td>\n",
       "      <td>0.0</td>\n",
       "    </tr>\n",
       "    <tr>\n",
       "      <th>2</th>\n",
       "      <td>1.0</td>\n",
       "      <td>13.0</td>\n",
       "      <td>0.0</td>\n",
       "      <td>2.0</td>\n",
       "      <td>3082.0</td>\n",
       "      <td>4.0</td>\n",
       "      <td>44.0</td>\n",
       "      <td>2.0</td>\n",
       "    </tr>\n",
       "    <tr>\n",
       "      <th>3</th>\n",
       "      <td>0.0</td>\n",
       "      <td>6.0</td>\n",
       "      <td>1.0</td>\n",
       "      <td>2.0</td>\n",
       "      <td>7203.0</td>\n",
       "      <td>5.0</td>\n",
       "      <td>38.0</td>\n",
       "      <td>3.0</td>\n",
       "    </tr>\n",
       "    <tr>\n",
       "      <th>4</th>\n",
       "      <td>0.0</td>\n",
       "      <td>9.0</td>\n",
       "      <td>1.0</td>\n",
       "      <td>0.0</td>\n",
       "      <td>7040.0</td>\n",
       "      <td>9.0</td>\n",
       "      <td>40.0</td>\n",
       "      <td>2.0</td>\n",
       "    </tr>\n",
       "  </tbody>\n",
       "</table>\n",
       "</div>"
      ],
      "text/plain": [
       "   GENDER  HOME_LANGUAGE  ENROL_STATUS  ENROL_TYPE  QUALIFICATION_ID  \\\n",
       "0     0.0            9.0           1.0         2.0             332.0   \n",
       "1     0.0            1.0           0.0         0.0            6394.0   \n",
       "2     1.0           13.0           0.0         2.0            3082.0   \n",
       "3     0.0            6.0           1.0         2.0            7203.0   \n",
       "4     0.0            9.0           1.0         0.0            7040.0   \n",
       "\n",
       "   QUALIFICATION_TYPE  STUDENT_AGE  NQFL  \n",
       "0                 4.0         38.0   2.0  \n",
       "1                 6.0         45.0   0.0  \n",
       "2                 4.0         44.0   2.0  \n",
       "3                 5.0         38.0   3.0  \n",
       "4                 9.0         40.0   2.0  "
      ]
     },
     "execution_count": 84,
     "metadata": {},
     "output_type": "execute_result"
    }
   ],
   "source": [
    "encode_data.head()"
   ]
  },
  {
   "cell_type": "markdown",
   "id": "701b1288",
   "metadata": {},
   "source": [
    "### Declaring target"
   ]
  },
  {
   "cell_type": "code",
   "execution_count": 85,
   "id": "5683f004",
   "metadata": {},
   "outputs": [
    {
     "data": {
      "text/plain": [
       "(15000,)"
      ]
     },
     "execution_count": 85,
     "metadata": {},
     "output_type": "execute_result"
    }
   ],
   "source": [
    "y= encode_data['ENROL_TYPE']\n",
    "y.shape"
   ]
  },
  {
   "cell_type": "markdown",
   "id": "88465665",
   "metadata": {},
   "source": [
    "### Droping Enrol Status from the datframe"
   ]
  },
  {
   "cell_type": "code",
   "execution_count": 86,
   "id": "434a1c38",
   "metadata": {},
   "outputs": [
    {
     "data": {
      "text/html": [
       "<div>\n",
       "<style scoped>\n",
       "    .dataframe tbody tr th:only-of-type {\n",
       "        vertical-align: middle;\n",
       "    }\n",
       "\n",
       "    .dataframe tbody tr th {\n",
       "        vertical-align: top;\n",
       "    }\n",
       "\n",
       "    .dataframe thead th {\n",
       "        text-align: right;\n",
       "    }\n",
       "</style>\n",
       "<table border=\"1\" class=\"dataframe\">\n",
       "  <thead>\n",
       "    <tr style=\"text-align: right;\">\n",
       "      <th></th>\n",
       "      <th>GENDER</th>\n",
       "      <th>HOME_LANGUAGE</th>\n",
       "      <th>ENROL_STATUS</th>\n",
       "      <th>QUALIFICATION_ID</th>\n",
       "      <th>QUALIFICATION_TYPE</th>\n",
       "      <th>STUDENT_AGE</th>\n",
       "      <th>NQFL</th>\n",
       "    </tr>\n",
       "  </thead>\n",
       "  <tbody>\n",
       "    <tr>\n",
       "      <th>0</th>\n",
       "      <td>0.0</td>\n",
       "      <td>9.0</td>\n",
       "      <td>1.0</td>\n",
       "      <td>332.0</td>\n",
       "      <td>4.0</td>\n",
       "      <td>38.0</td>\n",
       "      <td>2.0</td>\n",
       "    </tr>\n",
       "    <tr>\n",
       "      <th>1</th>\n",
       "      <td>0.0</td>\n",
       "      <td>1.0</td>\n",
       "      <td>0.0</td>\n",
       "      <td>6394.0</td>\n",
       "      <td>6.0</td>\n",
       "      <td>45.0</td>\n",
       "      <td>0.0</td>\n",
       "    </tr>\n",
       "    <tr>\n",
       "      <th>2</th>\n",
       "      <td>1.0</td>\n",
       "      <td>13.0</td>\n",
       "      <td>0.0</td>\n",
       "      <td>3082.0</td>\n",
       "      <td>4.0</td>\n",
       "      <td>44.0</td>\n",
       "      <td>2.0</td>\n",
       "    </tr>\n",
       "    <tr>\n",
       "      <th>3</th>\n",
       "      <td>0.0</td>\n",
       "      <td>6.0</td>\n",
       "      <td>1.0</td>\n",
       "      <td>7203.0</td>\n",
       "      <td>5.0</td>\n",
       "      <td>38.0</td>\n",
       "      <td>3.0</td>\n",
       "    </tr>\n",
       "    <tr>\n",
       "      <th>4</th>\n",
       "      <td>0.0</td>\n",
       "      <td>9.0</td>\n",
       "      <td>1.0</td>\n",
       "      <td>7040.0</td>\n",
       "      <td>9.0</td>\n",
       "      <td>40.0</td>\n",
       "      <td>2.0</td>\n",
       "    </tr>\n",
       "  </tbody>\n",
       "</table>\n",
       "</div>"
      ],
      "text/plain": [
       "   GENDER  HOME_LANGUAGE  ENROL_STATUS  QUALIFICATION_ID  QUALIFICATION_TYPE  \\\n",
       "0     0.0            9.0           1.0             332.0                 4.0   \n",
       "1     0.0            1.0           0.0            6394.0                 6.0   \n",
       "2     1.0           13.0           0.0            3082.0                 4.0   \n",
       "3     0.0            6.0           1.0            7203.0                 5.0   \n",
       "4     0.0            9.0           1.0            7040.0                 9.0   \n",
       "\n",
       "   STUDENT_AGE  NQFL  \n",
       "0         38.0   2.0  \n",
       "1         45.0   0.0  \n",
       "2         44.0   2.0  \n",
       "3         38.0   3.0  \n",
       "4         40.0   2.0  "
      ]
     },
     "execution_count": 86,
     "metadata": {},
     "output_type": "execute_result"
    }
   ],
   "source": [
    "X = New_het=encode_data.drop(['ENROL_TYPE'], axis=True)\n",
    "X.head()"
   ]
  },
  {
   "cell_type": "markdown",
   "id": "4f2343e0",
   "metadata": {},
   "source": [
    "### Scalling using Min Max Scaler"
   ]
  },
  {
   "cell_type": "code",
   "execution_count": 87,
   "id": "01604196",
   "metadata": {},
   "outputs": [
    {
     "data": {
      "text/html": [
       "<div>\n",
       "<style scoped>\n",
       "    .dataframe tbody tr th:only-of-type {\n",
       "        vertical-align: middle;\n",
       "    }\n",
       "\n",
       "    .dataframe tbody tr th {\n",
       "        vertical-align: top;\n",
       "    }\n",
       "\n",
       "    .dataframe thead th {\n",
       "        text-align: right;\n",
       "    }\n",
       "</style>\n",
       "<table border=\"1\" class=\"dataframe\">\n",
       "  <thead>\n",
       "    <tr style=\"text-align: right;\">\n",
       "      <th></th>\n",
       "      <th>GENDER</th>\n",
       "      <th>HOME_LANGUAGE</th>\n",
       "      <th>ENROL_STATUS</th>\n",
       "      <th>QUALIFICATION_ID</th>\n",
       "      <th>QUALIFICATION_TYPE</th>\n",
       "      <th>STUDENT_AGE</th>\n",
       "      <th>NQFL</th>\n",
       "    </tr>\n",
       "  </thead>\n",
       "  <tbody>\n",
       "    <tr>\n",
       "      <th>0</th>\n",
       "      <td>0.0</td>\n",
       "      <td>0.692308</td>\n",
       "      <td>1.0</td>\n",
       "      <td>0.038897</td>\n",
       "      <td>0.153846</td>\n",
       "      <td>0.541667</td>\n",
       "      <td>0.666667</td>\n",
       "    </tr>\n",
       "    <tr>\n",
       "      <th>1</th>\n",
       "      <td>0.0</td>\n",
       "      <td>0.076923</td>\n",
       "      <td>0.0</td>\n",
       "      <td>0.753418</td>\n",
       "      <td>0.307692</td>\n",
       "      <td>0.687500</td>\n",
       "      <td>0.000000</td>\n",
       "    </tr>\n",
       "    <tr>\n",
       "      <th>2</th>\n",
       "      <td>1.0</td>\n",
       "      <td>1.000000</td>\n",
       "      <td>0.0</td>\n",
       "      <td>0.363036</td>\n",
       "      <td>0.153846</td>\n",
       "      <td>0.666667</td>\n",
       "      <td>0.666667</td>\n",
       "    </tr>\n",
       "    <tr>\n",
       "      <th>3</th>\n",
       "      <td>0.0</td>\n",
       "      <td>0.461538</td>\n",
       "      <td>1.0</td>\n",
       "      <td>0.848774</td>\n",
       "      <td>0.230769</td>\n",
       "      <td>0.541667</td>\n",
       "      <td>1.000000</td>\n",
       "    </tr>\n",
       "    <tr>\n",
       "      <th>4</th>\n",
       "      <td>0.0</td>\n",
       "      <td>0.692308</td>\n",
       "      <td>1.0</td>\n",
       "      <td>0.829562</td>\n",
       "      <td>0.538462</td>\n",
       "      <td>0.583333</td>\n",
       "      <td>0.666667</td>\n",
       "    </tr>\n",
       "  </tbody>\n",
       "</table>\n",
       "</div>"
      ],
      "text/plain": [
       "   GENDER  HOME_LANGUAGE  ENROL_STATUS  QUALIFICATION_ID  QUALIFICATION_TYPE  \\\n",
       "0     0.0       0.692308           1.0          0.038897            0.153846   \n",
       "1     0.0       0.076923           0.0          0.753418            0.307692   \n",
       "2     1.0       1.000000           0.0          0.363036            0.153846   \n",
       "3     0.0       0.461538           1.0          0.848774            0.230769   \n",
       "4     0.0       0.692308           1.0          0.829562            0.538462   \n",
       "\n",
       "   STUDENT_AGE      NQFL  \n",
       "0     0.541667  0.666667  \n",
       "1     0.687500  0.000000  \n",
       "2     0.666667  0.666667  \n",
       "3     0.541667  1.000000  \n",
       "4     0.583333  0.666667  "
      ]
     },
     "execution_count": 87,
     "metadata": {},
     "output_type": "execute_result"
    }
   ],
   "source": [
    "from sklearn.preprocessing import MinMaxScaler\n",
    "scaler = MinMaxScaler()\n",
    "X = pd.DataFrame(scaler.fit_transform(X), columns = X.columns)\n",
    "X.head()"
   ]
  },
  {
   "cell_type": "markdown",
   "id": "e91e02dc",
   "metadata": {},
   "source": [
    "### Split Data in to Train and Test"
   ]
  },
  {
   "cell_type": "code",
   "execution_count": 88,
   "id": "b032dacc",
   "metadata": {},
   "outputs": [
    {
     "name": "stdout",
     "output_type": "stream",
     "text": [
      "Train (10050, 7) (10050,)\n",
      "Test (4950, 7) (4950,)\n"
     ]
    }
   ],
   "source": [
    "# split into train and test sets\n",
    "X_train, X_test, y_train, y_test = train_test_split(X, y, test_size=0.33, random_state=1)\n",
    "\n",
    "# summarize\n",
    "print('Train', X_train.shape, y_train.shape)\n",
    "print('Test', X_test.shape, y_test.shape)"
   ]
  },
  {
   "cell_type": "markdown",
   "id": "0f8e5d95",
   "metadata": {},
   "source": [
    "### Using Chi Square to selct best features"
   ]
  },
  {
   "cell_type": "code",
   "execution_count": 89,
   "id": "050828e2",
   "metadata": {},
   "outputs": [],
   "source": [
    "fs = SelectKBest(score_func=chi2, k='all')\n",
    "fs.fit(X_train, y_train)\n",
    "X_train_fs = fs.transform(X_train)\n",
    "X_test_fs = fs.transform(X_test)"
   ]
  },
  {
   "cell_type": "code",
   "execution_count": 90,
   "id": "e72b9d73",
   "metadata": {},
   "outputs": [
    {
     "name": "stdout",
     "output_type": "stream",
     "text": [
      "Feature 0: 68.700108\n",
      "Feature 1: 5.275161\n",
      "Feature 2: 236.034554\n",
      "Feature 3: 148.205844\n",
      "Feature 4: 15.262972\n",
      "Feature 5: 22.688251\n",
      "Feature 6: 202.320728\n"
     ]
    },
    {
     "data": {
      "image/png": "[encoded data removed]",
      "text/plain": [
       "<Figure size 432x288 with 1 Axes>"
      ]
     },
     "metadata": {},
     "output_type": "display_data"
    }
   ],
   "source": [
    "# scores for the featuresX_test\n",
    "for i in range(len(fs.scores_)):\n",
    "    print('Feature %d: %f' % (i, fs.scores_[i]))\n",
    "# plot the scores\n",
    "pyplot.bar([i for i in range(len(fs.scores_))], fs.scores_)\n",
    "pyplot.show()"
   ]
  },
  {
   "cell_type": "markdown",
   "id": "72b5e615",
   "metadata": {},
   "source": [
    "### KNN : Logistic Regresssion"
   ]
  },
  {
   "cell_type": "code",
   "execution_count": 91,
   "id": "36e7f178",
   "metadata": {},
   "outputs": [
    {
     "name": "stdout",
     "output_type": "stream",
     "text": [
      "Accuracy: 77.01\n"
     ]
    }
   ],
   "source": [
    "# fit the model\n",
    "model = LogisticRegression(multi_class = 'multinomial', solver='lbfgs')\n",
    "model.fit(X_train, y_train)\n",
    "\n",
    "# evaluate the model\n",
    "yhat = model.predict(X_test)\n",
    "\n",
    "# evaluate predictions\n",
    "accuracy = accuracy_score(y_test, yhat)\n",
    "print('Accuracy: %.2f' % (accuracy*100))"
   ]
  },
  {
   "cell_type": "markdown",
   "id": "548f4cbc",
   "metadata": {},
   "source": [
    "### KNN: Decision Tree Classifier\n",
    "\n"
   ]
  },
  {
   "cell_type": "code",
   "execution_count": 92,
   "id": "2955a356",
   "metadata": {},
   "outputs": [],
   "source": [
    "dtree_model = DecisionTreeClassifier(max_depth = 2).fit(X_train, y_train)\n",
    "dtree_predictions = dtree_model.predict(X_test)"
   ]
  },
  {
   "cell_type": "code",
   "execution_count": 93,
   "id": "411aee1c",
   "metadata": {},
   "outputs": [],
   "source": [
    "# creating a confusion matrix\n",
    "cm = confusion_matrix(y_test, dtree_predictions)"
   ]
  },
  {
   "cell_type": "code",
   "execution_count": 94,
   "id": "cdffb0f8",
   "metadata": {},
   "outputs": [
    {
     "name": "stdout",
     "output_type": "stream",
     "text": [
      "              precision    recall  f1-score   support\n",
      "\n",
      "         0.0       0.95      0.97      0.96      3153\n",
      "         1.0       0.00      0.00      0.00         3\n",
      "         2.0       0.94      0.91      0.92      1794\n",
      "\n",
      "    accuracy                           0.94      4950\n",
      "   macro avg       0.63      0.62      0.63      4950\n",
      "weighted avg       0.94      0.94      0.94      4950\n",
      "\n"
     ]
    }
   ],
   "source": [
    "from sklearn.tree import DecisionTreeClassifier\n",
    "classifier = DecisionTreeClassifier()\n",
    "classifier.fit(X_train, y_train)\n",
    "y_pred = classifier.predict(X_test)\n",
    "from sklearn.metrics import classification_report, confusion_matrix\n",
    "#print(confusion_matrix(y_test, y_pred))\n",
    "print(classification_report(y_test, y_pred))"
   ]
  },
  {
   "cell_type": "markdown",
   "id": "ca4dd6d7",
   "metadata": {},
   "source": [
    "###  KNN : Gradient Boosting"
   ]
  },
  {
   "cell_type": "code",
   "execution_count": 95,
   "id": "6ed165ac",
   "metadata": {},
   "outputs": [
    {
     "name": "stdout",
     "output_type": "stream",
     "text": [
      "[[2966    4  183]\n",
      " [   1    0    2]\n",
      " [ 221    4 1569]]\n",
      "\n",
      "\n",
      "              precision    recall  f1-score   support\n",
      "\n",
      "         0.0       0.93      0.94      0.94      3153\n",
      "         1.0       0.00      0.00      0.00         3\n",
      "         2.0       0.89      0.87      0.88      1794\n",
      "\n",
      "    accuracy                           0.92      4950\n",
      "   macro avg       0.61      0.61      0.61      4950\n",
      "weighted avg       0.92      0.92      0.92      4950\n",
      "\n"
     ]
    }
   ],
   "source": [
    "gradient_booster = GradientBoostingClassifier(learning_rate=0.1)\n",
    "gradient_booster.get_params()\n",
    "\n",
    "# gradient booster model creation\n",
    "gbc = GradientBoostingClassifier()\n",
    "gbc.fit(X_train,y_train)\n",
    "# predictions\n",
    "gbc_predict = gbc.predict(X_test)\n",
    "\n",
    "print(confusion_matrix(y_test, gbc_predict))\n",
    "print('\\n')\n",
    "print(classification_report(y_test, gbc_predict))"
   ]
  }
 ],
 "metadata": {
  "kernelspec": {
   "display_name": "Python 3",
   "language": "python",
   "name": "python3"
  },
  "language_info": {
   "codemirror_mode": {
    "name": "ipython",
    "version": 3
   },
   "file_extension": ".py",
   "mimetype": "text/x-python",
   "name": "python",
   "nbconvert_exporter": "python",
   "pygments_lexer": "ipython3",
   "version": "3.8.11"
  }
 },
 "nbformat": 4,
 "nbformat_minor": 5
}
